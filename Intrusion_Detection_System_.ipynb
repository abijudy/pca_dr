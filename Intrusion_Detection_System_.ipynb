{
  "nbformat": 4,
  "nbformat_minor": 0,
  "metadata": {
    "colab": {
      "provenance": []
    },
    "kernelspec": {
      "name": "python3",
      "display_name": "Python 3"
    },
    "language_info": {
      "name": "python"
    }
  },
  "cells": [
    {
      "cell_type": "code",
      "source": [
        "# Import necessary libraries\n",
        "import pandas as pd\n",
        "import numpy as np\n",
        "from sklearn.model_selection import train_test_split\n",
        "from sklearn.preprocessing import LabelEncoder, StandardScaler\n",
        "from sklearn.neural_network import MLPClassifier\n",
        "from sklearn.metrics import accuracy_score\n"
      ],
      "metadata": {
        "id": "nlSQD7aLwG2A"
      },
      "execution_count": null,
      "outputs": []
    },
    {
      "cell_type": "code",
      "source": [
        "# Load dataset\n",
        "dataset = pd.read_csv('1.csv')\n",
        "dataset.head(5)"
      ],
      "metadata": {
        "colab": {
          "base_uri": "https://localhost:8080/",
          "height": 299
        },
        "id": "8eX3VJA-wLaJ",
        "outputId": "a7f019be-6c9c-4170-8226-6d58f341ed08"
      },
      "execution_count": null,
      "outputs": [
        {
          "output_type": "execute_result",
          "data": {
            "text/plain": [
              "     Dir        Flgs     SrcAddr     DstAddr  Sport  Dport  SrcBytes  \\\n",
              "0     ->   e          10.0.1.172  10.0.1.150  58059   1111       496   \n",
              "1     ->   e          10.0.1.172  10.0.1.150  58062   1111       496   \n",
              "2     ->   e          10.0.1.172  10.0.1.150  58065   1111       496   \n",
              "3     ->   e          10.0.1.172  10.0.1.150  58067   1111       496   \n",
              "4     ->   e          10.0.1.172  10.0.1.150  58069   1111       496   \n",
              "\n",
              "   DstBytes   SrcLoad  DstLoad  ...  Packet_num  Temp  SpO2  Pulse_Rate  SYS  \\\n",
              "0       186  276914.0  92305.0  ...         1.0  28.9   0.0         0.0  0.0   \n",
              "1       186  230984.0  76995.0  ...         2.0  28.9   0.0         0.0  0.0   \n",
              "2       186  218470.0  72823.0  ...         3.0  28.9  89.0       104.0  0.0   \n",
              "3       186  203376.0  67792.0  ...         4.0  28.9  89.0       104.0  0.0   \n",
              "4       186  235723.0  78574.0  ...         5.0  28.9  89.0       101.0  0.0   \n",
              "\n",
              "   DIA  Heart_rate  Resp_Rate   ST  Label  \n",
              "0  0.0         0.0        0.0  0.0    0.0  \n",
              "1  0.0        78.0       17.0  0.4    0.0  \n",
              "2  0.0        78.0       17.0  0.4    0.0  \n",
              "3  0.0        79.0       17.0  0.4    0.0  \n",
              "4  0.0        79.0       17.0  0.4    0.0  \n",
              "\n",
              "[5 rows x 44 columns]"
            ],
            "text/html": [
              "\n",
              "  <div id=\"df-fcd1fa93-9555-43e8-b856-24cac27060eb\">\n",
              "    <div class=\"colab-df-container\">\n",
              "      <div>\n",
              "<style scoped>\n",
              "    .dataframe tbody tr th:only-of-type {\n",
              "        vertical-align: middle;\n",
              "    }\n",
              "\n",
              "    .dataframe tbody tr th {\n",
              "        vertical-align: top;\n",
              "    }\n",
              "\n",
              "    .dataframe thead th {\n",
              "        text-align: right;\n",
              "    }\n",
              "</style>\n",
              "<table border=\"1\" class=\"dataframe\">\n",
              "  <thead>\n",
              "    <tr style=\"text-align: right;\">\n",
              "      <th></th>\n",
              "      <th>Dir</th>\n",
              "      <th>Flgs</th>\n",
              "      <th>SrcAddr</th>\n",
              "      <th>DstAddr</th>\n",
              "      <th>Sport</th>\n",
              "      <th>Dport</th>\n",
              "      <th>SrcBytes</th>\n",
              "      <th>DstBytes</th>\n",
              "      <th>SrcLoad</th>\n",
              "      <th>DstLoad</th>\n",
              "      <th>...</th>\n",
              "      <th>Packet_num</th>\n",
              "      <th>Temp</th>\n",
              "      <th>SpO2</th>\n",
              "      <th>Pulse_Rate</th>\n",
              "      <th>SYS</th>\n",
              "      <th>DIA</th>\n",
              "      <th>Heart_rate</th>\n",
              "      <th>Resp_Rate</th>\n",
              "      <th>ST</th>\n",
              "      <th>Label</th>\n",
              "    </tr>\n",
              "  </thead>\n",
              "  <tbody>\n",
              "    <tr>\n",
              "      <th>0</th>\n",
              "      <td>-&gt;</td>\n",
              "      <td>e</td>\n",
              "      <td>10.0.1.172</td>\n",
              "      <td>10.0.1.150</td>\n",
              "      <td>58059</td>\n",
              "      <td>1111</td>\n",
              "      <td>496</td>\n",
              "      <td>186</td>\n",
              "      <td>276914.0</td>\n",
              "      <td>92305.0</td>\n",
              "      <td>...</td>\n",
              "      <td>1.0</td>\n",
              "      <td>28.9</td>\n",
              "      <td>0.0</td>\n",
              "      <td>0.0</td>\n",
              "      <td>0.0</td>\n",
              "      <td>0.0</td>\n",
              "      <td>0.0</td>\n",
              "      <td>0.0</td>\n",
              "      <td>0.0</td>\n",
              "      <td>0.0</td>\n",
              "    </tr>\n",
              "    <tr>\n",
              "      <th>1</th>\n",
              "      <td>-&gt;</td>\n",
              "      <td>e</td>\n",
              "      <td>10.0.1.172</td>\n",
              "      <td>10.0.1.150</td>\n",
              "      <td>58062</td>\n",
              "      <td>1111</td>\n",
              "      <td>496</td>\n",
              "      <td>186</td>\n",
              "      <td>230984.0</td>\n",
              "      <td>76995.0</td>\n",
              "      <td>...</td>\n",
              "      <td>2.0</td>\n",
              "      <td>28.9</td>\n",
              "      <td>0.0</td>\n",
              "      <td>0.0</td>\n",
              "      <td>0.0</td>\n",
              "      <td>0.0</td>\n",
              "      <td>78.0</td>\n",
              "      <td>17.0</td>\n",
              "      <td>0.4</td>\n",
              "      <td>0.0</td>\n",
              "    </tr>\n",
              "    <tr>\n",
              "      <th>2</th>\n",
              "      <td>-&gt;</td>\n",
              "      <td>e</td>\n",
              "      <td>10.0.1.172</td>\n",
              "      <td>10.0.1.150</td>\n",
              "      <td>58065</td>\n",
              "      <td>1111</td>\n",
              "      <td>496</td>\n",
              "      <td>186</td>\n",
              "      <td>218470.0</td>\n",
              "      <td>72823.0</td>\n",
              "      <td>...</td>\n",
              "      <td>3.0</td>\n",
              "      <td>28.9</td>\n",
              "      <td>89.0</td>\n",
              "      <td>104.0</td>\n",
              "      <td>0.0</td>\n",
              "      <td>0.0</td>\n",
              "      <td>78.0</td>\n",
              "      <td>17.0</td>\n",
              "      <td>0.4</td>\n",
              "      <td>0.0</td>\n",
              "    </tr>\n",
              "    <tr>\n",
              "      <th>3</th>\n",
              "      <td>-&gt;</td>\n",
              "      <td>e</td>\n",
              "      <td>10.0.1.172</td>\n",
              "      <td>10.0.1.150</td>\n",
              "      <td>58067</td>\n",
              "      <td>1111</td>\n",
              "      <td>496</td>\n",
              "      <td>186</td>\n",
              "      <td>203376.0</td>\n",
              "      <td>67792.0</td>\n",
              "      <td>...</td>\n",
              "      <td>4.0</td>\n",
              "      <td>28.9</td>\n",
              "      <td>89.0</td>\n",
              "      <td>104.0</td>\n",
              "      <td>0.0</td>\n",
              "      <td>0.0</td>\n",
              "      <td>79.0</td>\n",
              "      <td>17.0</td>\n",
              "      <td>0.4</td>\n",
              "      <td>0.0</td>\n",
              "    </tr>\n",
              "    <tr>\n",
              "      <th>4</th>\n",
              "      <td>-&gt;</td>\n",
              "      <td>e</td>\n",
              "      <td>10.0.1.172</td>\n",
              "      <td>10.0.1.150</td>\n",
              "      <td>58069</td>\n",
              "      <td>1111</td>\n",
              "      <td>496</td>\n",
              "      <td>186</td>\n",
              "      <td>235723.0</td>\n",
              "      <td>78574.0</td>\n",
              "      <td>...</td>\n",
              "      <td>5.0</td>\n",
              "      <td>28.9</td>\n",
              "      <td>89.0</td>\n",
              "      <td>101.0</td>\n",
              "      <td>0.0</td>\n",
              "      <td>0.0</td>\n",
              "      <td>79.0</td>\n",
              "      <td>17.0</td>\n",
              "      <td>0.4</td>\n",
              "      <td>0.0</td>\n",
              "    </tr>\n",
              "  </tbody>\n",
              "</table>\n",
              "<p>5 rows × 44 columns</p>\n",
              "</div>\n",
              "      <button class=\"colab-df-convert\" onclick=\"convertToInteractive('df-fcd1fa93-9555-43e8-b856-24cac27060eb')\"\n",
              "              title=\"Convert this dataframe to an interactive table.\"\n",
              "              style=\"display:none;\">\n",
              "        \n",
              "  <svg xmlns=\"http://www.w3.org/2000/svg\" height=\"24px\"viewBox=\"0 0 24 24\"\n",
              "       width=\"24px\">\n",
              "    <path d=\"M0 0h24v24H0V0z\" fill=\"none\"/>\n",
              "    <path d=\"M18.56 5.44l.94 2.06.94-2.06 2.06-.94-2.06-.94-.94-2.06-.94 2.06-2.06.94zm-11 1L8.5 8.5l.94-2.06 2.06-.94-2.06-.94L8.5 2.5l-.94 2.06-2.06.94zm10 10l.94 2.06.94-2.06 2.06-.94-2.06-.94-.94-2.06-.94 2.06-2.06.94z\"/><path d=\"M17.41 7.96l-1.37-1.37c-.4-.4-.92-.59-1.43-.59-.52 0-1.04.2-1.43.59L10.3 9.45l-7.72 7.72c-.78.78-.78 2.05 0 2.83L4 21.41c.39.39.9.59 1.41.59.51 0 1.02-.2 1.41-.59l7.78-7.78 2.81-2.81c.8-.78.8-2.07 0-2.86zM5.41 20L4 18.59l7.72-7.72 1.47 1.35L5.41 20z\"/>\n",
              "  </svg>\n",
              "      </button>\n",
              "      \n",
              "  <style>\n",
              "    .colab-df-container {\n",
              "      display:flex;\n",
              "      flex-wrap:wrap;\n",
              "      gap: 12px;\n",
              "    }\n",
              "\n",
              "    .colab-df-convert {\n",
              "      background-color: #E8F0FE;\n",
              "      border: none;\n",
              "      border-radius: 50%;\n",
              "      cursor: pointer;\n",
              "      display: none;\n",
              "      fill: #1967D2;\n",
              "      height: 32px;\n",
              "      padding: 0 0 0 0;\n",
              "      width: 32px;\n",
              "    }\n",
              "\n",
              "    .colab-df-convert:hover {\n",
              "      background-color: #E2EBFA;\n",
              "      box-shadow: 0px 1px 2px rgba(60, 64, 67, 0.3), 0px 1px 3px 1px rgba(60, 64, 67, 0.15);\n",
              "      fill: #174EA6;\n",
              "    }\n",
              "\n",
              "    [theme=dark] .colab-df-convert {\n",
              "      background-color: #3B4455;\n",
              "      fill: #D2E3FC;\n",
              "    }\n",
              "\n",
              "    [theme=dark] .colab-df-convert:hover {\n",
              "      background-color: #434B5C;\n",
              "      box-shadow: 0px 1px 3px 1px rgba(0, 0, 0, 0.15);\n",
              "      filter: drop-shadow(0px 1px 2px rgba(0, 0, 0, 0.3));\n",
              "      fill: #FFFFFF;\n",
              "    }\n",
              "  </style>\n",
              "\n",
              "      <script>\n",
              "        const buttonEl =\n",
              "          document.querySelector('#df-fcd1fa93-9555-43e8-b856-24cac27060eb button.colab-df-convert');\n",
              "        buttonEl.style.display =\n",
              "          google.colab.kernel.accessAllowed ? 'block' : 'none';\n",
              "\n",
              "        async function convertToInteractive(key) {\n",
              "          const element = document.querySelector('#df-fcd1fa93-9555-43e8-b856-24cac27060eb');\n",
              "          const dataTable =\n",
              "            await google.colab.kernel.invokeFunction('convertToInteractive',\n",
              "                                                     [key], {});\n",
              "          if (!dataTable) return;\n",
              "\n",
              "          const docLinkHtml = 'Like what you see? Visit the ' +\n",
              "            '<a target=\"_blank\" href=https://colab.research.google.com/notebooks/data_table.ipynb>data table notebook</a>'\n",
              "            + ' to learn more about interactive tables.';\n",
              "          element.innerHTML = '';\n",
              "          dataTable['output_type'] = 'display_data';\n",
              "          await google.colab.output.renderOutput(dataTable, element);\n",
              "          const docLink = document.createElement('div');\n",
              "          docLink.innerHTML = docLinkHtml;\n",
              "          element.appendChild(docLink);\n",
              "        }\n",
              "      </script>\n",
              "    </div>\n",
              "  </div>\n",
              "  "
            ]
          },
          "metadata": {},
          "execution_count": 2
        }
      ]
    },
    {
      "cell_type": "code",
      "source": [
        "dataset.shape"
      ],
      "metadata": {
        "colab": {
          "base_uri": "https://localhost:8080/"
        },
        "id": "HWCGESdwHhEG",
        "outputId": "5d97f8d1-0ee0-4dd4-9e80-b07bc9bda8fe"
      },
      "execution_count": null,
      "outputs": [
        {
          "output_type": "execute_result",
          "data": {
            "text/plain": [
              "(16318, 44)"
            ]
          },
          "metadata": {},
          "execution_count": 3
        }
      ]
    },
    {
      "cell_type": "code",
      "source": [
        "# Preprocessing data\n",
        "# Label Encoding\n",
        "#le = LabelEncoder()\n",
        "#dataset['target'] = le.fit_transform(dataset['target'])"
      ],
      "metadata": {
        "id": "zNAOVFpOwQdA"
      },
      "execution_count": null,
      "outputs": []
    },
    {
      "cell_type": "code",
      "source": [
        "X = dataset.drop('Dir', axis=1,inplace=True)\n",
        "x1 = dataset.drop('SrcAddr', axis=1,inplace=True)\n",
        "x1 = dataset.drop('DstAddr', axis=1,inplace=True)\n",
        "x1 = dataset.drop('Sport', axis=1,inplace=True)\n",
        "x1 = dataset.drop('Dport', axis=1,inplace=True)\n",
        "x1 = dataset.drop('SrcMac', axis=1,inplace=True)\n",
        "x1 = dataset.drop('DstMac', axis=1,inplace=True)\n",
        "df= dataset.drop('Flgs', axis=1)\n",
        "#df=dataset.drop('Sport',axis=1)\n",
        "print (df)"
      ],
      "metadata": {
        "colab": {
          "base_uri": "https://localhost:8080/"
        },
        "id": "WP0aMz6KyejI",
        "outputId": "37278c9b-fbc3-4bf9-9b3a-3f63cd7f1e58"
      },
      "execution_count": null,
      "outputs": [
        {
          "output_type": "stream",
          "name": "stdout",
          "text": [
            "       SrcBytes  DstBytes   SrcLoad  DstLoad  SrcGap  DstGap     SIntPkt  \\\n",
            "0           496       186  276914.0  92305.0       0       0    3.582333   \n",
            "1           496       186  230984.0  76995.0       0       0    4.294667   \n",
            "2           496       186  218470.0  72823.0       0       0    4.540667   \n",
            "3           496       186  203376.0  67792.0       0       0    4.877667   \n",
            "4           496       186  235723.0  78574.0       0       0    4.208333   \n",
            "...         ...       ...       ...      ...     ...     ...         ...   \n",
            "13427       496       186  257529.0  85843.0       0       0    3.852000   \n",
            "13428       496       186  266954.0  88985.0       0       0    3.716000   \n",
            "13429       496       186  226071.0  75357.0       0       0    4.388000   \n",
            "13430       496       186  284024.0  94675.0       0       0    3.492667   \n",
            "13431       496       186    9389.0   3130.0       0       0  105.659336   \n",
            "\n",
            "        DIntPkt  SIntPktAct  DIntPktAct  ...  Packet_num  Temp  SpO2  \\\n",
            "0        1.9015         0.0           0  ...         1.0  28.9   0.0   \n",
            "1        2.9015         0.0           0  ...         2.0  28.9   0.0   \n",
            "2        3.2945         0.0           0  ...         3.0  28.9  89.0   \n",
            "3        3.3320         0.0           0  ...         4.0  28.9  89.0   \n",
            "4        2.8635         0.0           0  ...         5.0  28.9  89.0   \n",
            "...         ...         ...         ...  ...         ...   ...   ...   \n",
            "13427    2.3345         0.0           0  ...     13424.0  26.7  98.0   \n",
            "13428    2.1525         0.0           0  ...     13425.0  26.8  98.0   \n",
            "13429    2.3950         0.0           0  ...     13426.0  26.8  98.0   \n",
            "13430    2.7705         0.0           0  ...     13427.0  26.8  98.0   \n",
            "13431  153.7110         0.0           0  ...         NaN   NaN   NaN   \n",
            "\n",
            "       Pulse_Rate    SYS   DIA  Heart_rate  Resp_Rate   ST  Label  \n",
            "0             0.0    0.0   0.0         0.0        0.0  0.0    0.0  \n",
            "1             0.0    0.0   0.0        78.0       17.0  0.4    0.0  \n",
            "2           104.0    0.0   0.0        78.0       17.0  0.4    0.0  \n",
            "3           104.0    0.0   0.0        79.0       17.0  0.4    0.0  \n",
            "4           101.0    0.0   0.0        79.0       17.0  0.4    0.0  \n",
            "...           ...    ...   ...         ...        ...  ...    ...  \n",
            "13427        73.0  148.0  84.0        73.0       19.0  0.3    0.0  \n",
            "13428        73.0  148.0  84.0        73.0       19.0  0.3    0.0  \n",
            "13429        73.0  148.0  84.0        73.0       19.0  0.3    0.0  \n",
            "13430        73.0  148.0  84.0        73.0       19.0  0.3    0.0  \n",
            "13431         NaN    NaN   NaN         NaN        NaN  NaN    NaN  \n",
            "\n",
            "[13432 rows x 36 columns]\n"
          ]
        }
      ]
    },
    {
      "cell_type": "code",
      "source": [
        "#df=df.replace('10.0.1.172',1)\n",
        "#df=df.replace('10.0.1.150',2)\n",
        "#df=df.replace('84:3a:4b:0f:5b:94',3)\n",
        "#df=df.replace('d8:9e:f3:95:02:75',4)\n",
        "#df=df.replace('b8:ca:3a:cf:0b:87',5)\n",
        "#df.head(2)\n",
        "#df.DstMac.unique()"
      ],
      "metadata": {
        "id": "d-oPTJNNnCD0"
      },
      "execution_count": null,
      "outputs": []
    },
    {
      "cell_type": "code",
      "source": [
        "x1=df.SrcMac.unique()\n",
        "print(x1)\n"
      ],
      "metadata": {
        "colab": {
          "base_uri": "https://localhost:8080/"
        },
        "id": "pl9wZ560u3e7",
        "outputId": "8e1504f5-8d69-4cd0-a578-309124055700"
      },
      "execution_count": null,
      "outputs": [
        {
          "output_type": "stream",
          "name": "stdout",
          "text": [
            "[3 4]\n"
          ]
        }
      ]
    },
    {
      "cell_type": "code",
      "source": [
        "df.dtypes\n",
        "df.isnull().sum()"
      ],
      "metadata": {
        "colab": {
          "base_uri": "https://localhost:8080/"
        },
        "id": "ccXeMFCJfSr8",
        "outputId": "50dd77d7-52fd-4c19-f98c-260d99804f8d"
      },
      "execution_count": null,
      "outputs": [
        {
          "output_type": "execute_result",
          "data": {
            "text/plain": [
              "SrcBytes      0\n",
              "DstBytes      0\n",
              "SrcLoad       0\n",
              "DstLoad       0\n",
              "SrcGap        0\n",
              "DstGap        0\n",
              "SIntPkt       0\n",
              "DIntPkt       0\n",
              "SIntPktAct    0\n",
              "DIntPktAct    0\n",
              "SrcJitter     0\n",
              "DstJitter     0\n",
              "sMaxPktSz     0\n",
              "dMaxPktSz     0\n",
              "sMinPktSz     0\n",
              "dMinPktSz     0\n",
              "Dur           0\n",
              "Trans         0\n",
              "TotPkts       0\n",
              "TotBytes      0\n",
              "Load          0\n",
              "Loss          0\n",
              "pLoss         0\n",
              "pSrcLoss      0\n",
              "pDstLoss      0\n",
              "Rate          0\n",
              "Packet_num    0\n",
              "Temp          0\n",
              "SpO2          0\n",
              "Pulse_Rate    0\n",
              "SYS           0\n",
              "DIA           0\n",
              "Heart_rate    0\n",
              "Resp_Rate     0\n",
              "ST            0\n",
              "Label         0\n",
              "dtype: int64"
            ]
          },
          "metadata": {},
          "execution_count": 7
        }
      ]
    },
    {
      "cell_type": "code",
      "source": [
        "df.head()"
      ],
      "metadata": {
        "colab": {
          "base_uri": "https://localhost:8080/",
          "height": 299
        },
        "id": "IvpdLZDhkizU",
        "outputId": "8f5d969e-608c-40e3-bf68-7e4721829ff9"
      },
      "execution_count": null,
      "outputs": [
        {
          "output_type": "execute_result",
          "data": {
            "text/plain": [
              "   SrcBytes  DstBytes   SrcLoad  DstLoad  SrcGap  DstGap   SIntPkt  DIntPkt  \\\n",
              "0       496       186  276914.0  92305.0       0       0  3.582333   1.9015   \n",
              "1       496       186  230984.0  76995.0       0       0  4.294667   2.9015   \n",
              "2       496       186  218470.0  72823.0       0       0  4.540667   3.2945   \n",
              "3       496       186  203376.0  67792.0       0       0  4.877667   3.3320   \n",
              "4       496       186  235723.0  78574.0       0       0  4.208333   2.8635   \n",
              "\n",
              "   SIntPktAct  DIntPktAct  ...  Packet_num  Temp  SpO2  Pulse_Rate  SYS  DIA  \\\n",
              "0         0.0           0  ...         1.0  28.9   0.0         0.0  0.0  0.0   \n",
              "1         0.0           0  ...         2.0  28.9   0.0         0.0  0.0  0.0   \n",
              "2         0.0           0  ...         3.0  28.9  89.0       104.0  0.0  0.0   \n",
              "3         0.0           0  ...         4.0  28.9  89.0       104.0  0.0  0.0   \n",
              "4         0.0           0  ...         5.0  28.9  89.0       101.0  0.0  0.0   \n",
              "\n",
              "   Heart_rate  Resp_Rate   ST  Label  \n",
              "0         0.0        0.0  0.0    0.0  \n",
              "1        78.0       17.0  0.4    0.0  \n",
              "2        78.0       17.0  0.4    0.0  \n",
              "3        79.0       17.0  0.4    0.0  \n",
              "4        79.0       17.0  0.4    0.0  \n",
              "\n",
              "[5 rows x 36 columns]"
            ],
            "text/html": [
              "\n",
              "  <div id=\"df-e715996e-7c74-45ef-89f4-b22202ad7c18\">\n",
              "    <div class=\"colab-df-container\">\n",
              "      <div>\n",
              "<style scoped>\n",
              "    .dataframe tbody tr th:only-of-type {\n",
              "        vertical-align: middle;\n",
              "    }\n",
              "\n",
              "    .dataframe tbody tr th {\n",
              "        vertical-align: top;\n",
              "    }\n",
              "\n",
              "    .dataframe thead th {\n",
              "        text-align: right;\n",
              "    }\n",
              "</style>\n",
              "<table border=\"1\" class=\"dataframe\">\n",
              "  <thead>\n",
              "    <tr style=\"text-align: right;\">\n",
              "      <th></th>\n",
              "      <th>SrcBytes</th>\n",
              "      <th>DstBytes</th>\n",
              "      <th>SrcLoad</th>\n",
              "      <th>DstLoad</th>\n",
              "      <th>SrcGap</th>\n",
              "      <th>DstGap</th>\n",
              "      <th>SIntPkt</th>\n",
              "      <th>DIntPkt</th>\n",
              "      <th>SIntPktAct</th>\n",
              "      <th>DIntPktAct</th>\n",
              "      <th>...</th>\n",
              "      <th>Packet_num</th>\n",
              "      <th>Temp</th>\n",
              "      <th>SpO2</th>\n",
              "      <th>Pulse_Rate</th>\n",
              "      <th>SYS</th>\n",
              "      <th>DIA</th>\n",
              "      <th>Heart_rate</th>\n",
              "      <th>Resp_Rate</th>\n",
              "      <th>ST</th>\n",
              "      <th>Label</th>\n",
              "    </tr>\n",
              "  </thead>\n",
              "  <tbody>\n",
              "    <tr>\n",
              "      <th>0</th>\n",
              "      <td>496</td>\n",
              "      <td>186</td>\n",
              "      <td>276914.0</td>\n",
              "      <td>92305.0</td>\n",
              "      <td>0</td>\n",
              "      <td>0</td>\n",
              "      <td>3.582333</td>\n",
              "      <td>1.9015</td>\n",
              "      <td>0.0</td>\n",
              "      <td>0</td>\n",
              "      <td>...</td>\n",
              "      <td>1.0</td>\n",
              "      <td>28.9</td>\n",
              "      <td>0.0</td>\n",
              "      <td>0.0</td>\n",
              "      <td>0.0</td>\n",
              "      <td>0.0</td>\n",
              "      <td>0.0</td>\n",
              "      <td>0.0</td>\n",
              "      <td>0.0</td>\n",
              "      <td>0.0</td>\n",
              "    </tr>\n",
              "    <tr>\n",
              "      <th>1</th>\n",
              "      <td>496</td>\n",
              "      <td>186</td>\n",
              "      <td>230984.0</td>\n",
              "      <td>76995.0</td>\n",
              "      <td>0</td>\n",
              "      <td>0</td>\n",
              "      <td>4.294667</td>\n",
              "      <td>2.9015</td>\n",
              "      <td>0.0</td>\n",
              "      <td>0</td>\n",
              "      <td>...</td>\n",
              "      <td>2.0</td>\n",
              "      <td>28.9</td>\n",
              "      <td>0.0</td>\n",
              "      <td>0.0</td>\n",
              "      <td>0.0</td>\n",
              "      <td>0.0</td>\n",
              "      <td>78.0</td>\n",
              "      <td>17.0</td>\n",
              "      <td>0.4</td>\n",
              "      <td>0.0</td>\n",
              "    </tr>\n",
              "    <tr>\n",
              "      <th>2</th>\n",
              "      <td>496</td>\n",
              "      <td>186</td>\n",
              "      <td>218470.0</td>\n",
              "      <td>72823.0</td>\n",
              "      <td>0</td>\n",
              "      <td>0</td>\n",
              "      <td>4.540667</td>\n",
              "      <td>3.2945</td>\n",
              "      <td>0.0</td>\n",
              "      <td>0</td>\n",
              "      <td>...</td>\n",
              "      <td>3.0</td>\n",
              "      <td>28.9</td>\n",
              "      <td>89.0</td>\n",
              "      <td>104.0</td>\n",
              "      <td>0.0</td>\n",
              "      <td>0.0</td>\n",
              "      <td>78.0</td>\n",
              "      <td>17.0</td>\n",
              "      <td>0.4</td>\n",
              "      <td>0.0</td>\n",
              "    </tr>\n",
              "    <tr>\n",
              "      <th>3</th>\n",
              "      <td>496</td>\n",
              "      <td>186</td>\n",
              "      <td>203376.0</td>\n",
              "      <td>67792.0</td>\n",
              "      <td>0</td>\n",
              "      <td>0</td>\n",
              "      <td>4.877667</td>\n",
              "      <td>3.3320</td>\n",
              "      <td>0.0</td>\n",
              "      <td>0</td>\n",
              "      <td>...</td>\n",
              "      <td>4.0</td>\n",
              "      <td>28.9</td>\n",
              "      <td>89.0</td>\n",
              "      <td>104.0</td>\n",
              "      <td>0.0</td>\n",
              "      <td>0.0</td>\n",
              "      <td>79.0</td>\n",
              "      <td>17.0</td>\n",
              "      <td>0.4</td>\n",
              "      <td>0.0</td>\n",
              "    </tr>\n",
              "    <tr>\n",
              "      <th>4</th>\n",
              "      <td>496</td>\n",
              "      <td>186</td>\n",
              "      <td>235723.0</td>\n",
              "      <td>78574.0</td>\n",
              "      <td>0</td>\n",
              "      <td>0</td>\n",
              "      <td>4.208333</td>\n",
              "      <td>2.8635</td>\n",
              "      <td>0.0</td>\n",
              "      <td>0</td>\n",
              "      <td>...</td>\n",
              "      <td>5.0</td>\n",
              "      <td>28.9</td>\n",
              "      <td>89.0</td>\n",
              "      <td>101.0</td>\n",
              "      <td>0.0</td>\n",
              "      <td>0.0</td>\n",
              "      <td>79.0</td>\n",
              "      <td>17.0</td>\n",
              "      <td>0.4</td>\n",
              "      <td>0.0</td>\n",
              "    </tr>\n",
              "  </tbody>\n",
              "</table>\n",
              "<p>5 rows × 36 columns</p>\n",
              "</div>\n",
              "      <button class=\"colab-df-convert\" onclick=\"convertToInteractive('df-e715996e-7c74-45ef-89f4-b22202ad7c18')\"\n",
              "              title=\"Convert this dataframe to an interactive table.\"\n",
              "              style=\"display:none;\">\n",
              "        \n",
              "  <svg xmlns=\"http://www.w3.org/2000/svg\" height=\"24px\"viewBox=\"0 0 24 24\"\n",
              "       width=\"24px\">\n",
              "    <path d=\"M0 0h24v24H0V0z\" fill=\"none\"/>\n",
              "    <path d=\"M18.56 5.44l.94 2.06.94-2.06 2.06-.94-2.06-.94-.94-2.06-.94 2.06-2.06.94zm-11 1L8.5 8.5l.94-2.06 2.06-.94-2.06-.94L8.5 2.5l-.94 2.06-2.06.94zm10 10l.94 2.06.94-2.06 2.06-.94-2.06-.94-.94-2.06-.94 2.06-2.06.94z\"/><path d=\"M17.41 7.96l-1.37-1.37c-.4-.4-.92-.59-1.43-.59-.52 0-1.04.2-1.43.59L10.3 9.45l-7.72 7.72c-.78.78-.78 2.05 0 2.83L4 21.41c.39.39.9.59 1.41.59.51 0 1.02-.2 1.41-.59l7.78-7.78 2.81-2.81c.8-.78.8-2.07 0-2.86zM5.41 20L4 18.59l7.72-7.72 1.47 1.35L5.41 20z\"/>\n",
              "  </svg>\n",
              "      </button>\n",
              "      \n",
              "  <style>\n",
              "    .colab-df-container {\n",
              "      display:flex;\n",
              "      flex-wrap:wrap;\n",
              "      gap: 12px;\n",
              "    }\n",
              "\n",
              "    .colab-df-convert {\n",
              "      background-color: #E8F0FE;\n",
              "      border: none;\n",
              "      border-radius: 50%;\n",
              "      cursor: pointer;\n",
              "      display: none;\n",
              "      fill: #1967D2;\n",
              "      height: 32px;\n",
              "      padding: 0 0 0 0;\n",
              "      width: 32px;\n",
              "    }\n",
              "\n",
              "    .colab-df-convert:hover {\n",
              "      background-color: #E2EBFA;\n",
              "      box-shadow: 0px 1px 2px rgba(60, 64, 67, 0.3), 0px 1px 3px 1px rgba(60, 64, 67, 0.15);\n",
              "      fill: #174EA6;\n",
              "    }\n",
              "\n",
              "    [theme=dark] .colab-df-convert {\n",
              "      background-color: #3B4455;\n",
              "      fill: #D2E3FC;\n",
              "    }\n",
              "\n",
              "    [theme=dark] .colab-df-convert:hover {\n",
              "      background-color: #434B5C;\n",
              "      box-shadow: 0px 1px 3px 1px rgba(0, 0, 0, 0.15);\n",
              "      filter: drop-shadow(0px 1px 2px rgba(0, 0, 0, 0.3));\n",
              "      fill: #FFFFFF;\n",
              "    }\n",
              "  </style>\n",
              "\n",
              "      <script>\n",
              "        const buttonEl =\n",
              "          document.querySelector('#df-e715996e-7c74-45ef-89f4-b22202ad7c18 button.colab-df-convert');\n",
              "        buttonEl.style.display =\n",
              "          google.colab.kernel.accessAllowed ? 'block' : 'none';\n",
              "\n",
              "        async function convertToInteractive(key) {\n",
              "          const element = document.querySelector('#df-e715996e-7c74-45ef-89f4-b22202ad7c18');\n",
              "          const dataTable =\n",
              "            await google.colab.kernel.invokeFunction('convertToInteractive',\n",
              "                                                     [key], {});\n",
              "          if (!dataTable) return;\n",
              "\n",
              "          const docLinkHtml = 'Like what you see? Visit the ' +\n",
              "            '<a target=\"_blank\" href=https://colab.research.google.com/notebooks/data_table.ipynb>data table notebook</a>'\n",
              "            + ' to learn more about interactive tables.';\n",
              "          element.innerHTML = '';\n",
              "          dataTable['output_type'] = 'display_data';\n",
              "          await google.colab.output.renderOutput(dataTable, element);\n",
              "          const docLink = document.createElement('div');\n",
              "          docLink.innerHTML = docLinkHtml;\n",
              "          element.appendChild(docLink);\n",
              "        }\n",
              "      </script>\n",
              "    </div>\n",
              "  </div>\n",
              "  "
            ]
          },
          "metadata": {},
          "execution_count": 5
        }
      ]
    },
    {
      "cell_type": "code",
      "source": [
        "X = df.drop('Label', axis=1)\n",
        "y = dataset.Label\n",
        "X.head()"
      ],
      "metadata": {
        "colab": {
          "base_uri": "https://localhost:8080/",
          "height": 299
        },
        "id": "bkCD1RvUFisG",
        "outputId": "83ab19e0-2735-4230-fdef-e72c0ab2d7cc"
      },
      "execution_count": null,
      "outputs": [
        {
          "output_type": "execute_result",
          "data": {
            "text/plain": [
              "   SrcBytes  DstBytes   SrcLoad  DstLoad  SrcGap  DstGap   SIntPkt  DIntPkt  \\\n",
              "0       496       186  276914.0  92305.0       0       0  3.582333   1.9015   \n",
              "1       496       186  230984.0  76995.0       0       0  4.294667   2.9015   \n",
              "2       496       186  218470.0  72823.0       0       0  4.540667   3.2945   \n",
              "3       496       186  203376.0  67792.0       0       0  4.877667   3.3320   \n",
              "4       496       186  235723.0  78574.0       0       0  4.208333   2.8635   \n",
              "\n",
              "   SIntPktAct  DIntPktAct  ...     Rate  Packet_num  Temp  SpO2  Pulse_Rate  \\\n",
              "0         0.0           0  ...  558.295         1.0  28.9   0.0         0.0   \n",
              "1         0.0           0  ...  465.694         2.0  28.9   0.0         0.0   \n",
              "2         0.0           0  ...  440.464         3.0  28.9  89.0       104.0   \n",
              "3         0.0           0  ...  410.032         4.0  28.9  89.0       104.0   \n",
              "4         0.0           0  ...  475.247         5.0  28.9  89.0       101.0   \n",
              "\n",
              "   SYS  DIA  Heart_rate  Resp_Rate   ST  \n",
              "0  0.0  0.0         0.0        0.0  0.0  \n",
              "1  0.0  0.0        78.0       17.0  0.4  \n",
              "2  0.0  0.0        78.0       17.0  0.4  \n",
              "3  0.0  0.0        79.0       17.0  0.4  \n",
              "4  0.0  0.0        79.0       17.0  0.4  \n",
              "\n",
              "[5 rows x 35 columns]"
            ],
            "text/html": [
              "\n",
              "  <div id=\"df-f25e8464-4c20-45d3-a948-51cbbdefa2f3\">\n",
              "    <div class=\"colab-df-container\">\n",
              "      <div>\n",
              "<style scoped>\n",
              "    .dataframe tbody tr th:only-of-type {\n",
              "        vertical-align: middle;\n",
              "    }\n",
              "\n",
              "    .dataframe tbody tr th {\n",
              "        vertical-align: top;\n",
              "    }\n",
              "\n",
              "    .dataframe thead th {\n",
              "        text-align: right;\n",
              "    }\n",
              "</style>\n",
              "<table border=\"1\" class=\"dataframe\">\n",
              "  <thead>\n",
              "    <tr style=\"text-align: right;\">\n",
              "      <th></th>\n",
              "      <th>SrcBytes</th>\n",
              "      <th>DstBytes</th>\n",
              "      <th>SrcLoad</th>\n",
              "      <th>DstLoad</th>\n",
              "      <th>SrcGap</th>\n",
              "      <th>DstGap</th>\n",
              "      <th>SIntPkt</th>\n",
              "      <th>DIntPkt</th>\n",
              "      <th>SIntPktAct</th>\n",
              "      <th>DIntPktAct</th>\n",
              "      <th>...</th>\n",
              "      <th>Rate</th>\n",
              "      <th>Packet_num</th>\n",
              "      <th>Temp</th>\n",
              "      <th>SpO2</th>\n",
              "      <th>Pulse_Rate</th>\n",
              "      <th>SYS</th>\n",
              "      <th>DIA</th>\n",
              "      <th>Heart_rate</th>\n",
              "      <th>Resp_Rate</th>\n",
              "      <th>ST</th>\n",
              "    </tr>\n",
              "  </thead>\n",
              "  <tbody>\n",
              "    <tr>\n",
              "      <th>0</th>\n",
              "      <td>496</td>\n",
              "      <td>186</td>\n",
              "      <td>276914.0</td>\n",
              "      <td>92305.0</td>\n",
              "      <td>0</td>\n",
              "      <td>0</td>\n",
              "      <td>3.582333</td>\n",
              "      <td>1.9015</td>\n",
              "      <td>0.0</td>\n",
              "      <td>0</td>\n",
              "      <td>...</td>\n",
              "      <td>558.295</td>\n",
              "      <td>1.0</td>\n",
              "      <td>28.9</td>\n",
              "      <td>0.0</td>\n",
              "      <td>0.0</td>\n",
              "      <td>0.0</td>\n",
              "      <td>0.0</td>\n",
              "      <td>0.0</td>\n",
              "      <td>0.0</td>\n",
              "      <td>0.0</td>\n",
              "    </tr>\n",
              "    <tr>\n",
              "      <th>1</th>\n",
              "      <td>496</td>\n",
              "      <td>186</td>\n",
              "      <td>230984.0</td>\n",
              "      <td>76995.0</td>\n",
              "      <td>0</td>\n",
              "      <td>0</td>\n",
              "      <td>4.294667</td>\n",
              "      <td>2.9015</td>\n",
              "      <td>0.0</td>\n",
              "      <td>0</td>\n",
              "      <td>...</td>\n",
              "      <td>465.694</td>\n",
              "      <td>2.0</td>\n",
              "      <td>28.9</td>\n",
              "      <td>0.0</td>\n",
              "      <td>0.0</td>\n",
              "      <td>0.0</td>\n",
              "      <td>0.0</td>\n",
              "      <td>78.0</td>\n",
              "      <td>17.0</td>\n",
              "      <td>0.4</td>\n",
              "    </tr>\n",
              "    <tr>\n",
              "      <th>2</th>\n",
              "      <td>496</td>\n",
              "      <td>186</td>\n",
              "      <td>218470.0</td>\n",
              "      <td>72823.0</td>\n",
              "      <td>0</td>\n",
              "      <td>0</td>\n",
              "      <td>4.540667</td>\n",
              "      <td>3.2945</td>\n",
              "      <td>0.0</td>\n",
              "      <td>0</td>\n",
              "      <td>...</td>\n",
              "      <td>440.464</td>\n",
              "      <td>3.0</td>\n",
              "      <td>28.9</td>\n",
              "      <td>89.0</td>\n",
              "      <td>104.0</td>\n",
              "      <td>0.0</td>\n",
              "      <td>0.0</td>\n",
              "      <td>78.0</td>\n",
              "      <td>17.0</td>\n",
              "      <td>0.4</td>\n",
              "    </tr>\n",
              "    <tr>\n",
              "      <th>3</th>\n",
              "      <td>496</td>\n",
              "      <td>186</td>\n",
              "      <td>203376.0</td>\n",
              "      <td>67792.0</td>\n",
              "      <td>0</td>\n",
              "      <td>0</td>\n",
              "      <td>4.877667</td>\n",
              "      <td>3.3320</td>\n",
              "      <td>0.0</td>\n",
              "      <td>0</td>\n",
              "      <td>...</td>\n",
              "      <td>410.032</td>\n",
              "      <td>4.0</td>\n",
              "      <td>28.9</td>\n",
              "      <td>89.0</td>\n",
              "      <td>104.0</td>\n",
              "      <td>0.0</td>\n",
              "      <td>0.0</td>\n",
              "      <td>79.0</td>\n",
              "      <td>17.0</td>\n",
              "      <td>0.4</td>\n",
              "    </tr>\n",
              "    <tr>\n",
              "      <th>4</th>\n",
              "      <td>496</td>\n",
              "      <td>186</td>\n",
              "      <td>235723.0</td>\n",
              "      <td>78574.0</td>\n",
              "      <td>0</td>\n",
              "      <td>0</td>\n",
              "      <td>4.208333</td>\n",
              "      <td>2.8635</td>\n",
              "      <td>0.0</td>\n",
              "      <td>0</td>\n",
              "      <td>...</td>\n",
              "      <td>475.247</td>\n",
              "      <td>5.0</td>\n",
              "      <td>28.9</td>\n",
              "      <td>89.0</td>\n",
              "      <td>101.0</td>\n",
              "      <td>0.0</td>\n",
              "      <td>0.0</td>\n",
              "      <td>79.0</td>\n",
              "      <td>17.0</td>\n",
              "      <td>0.4</td>\n",
              "    </tr>\n",
              "  </tbody>\n",
              "</table>\n",
              "<p>5 rows × 35 columns</p>\n",
              "</div>\n",
              "      <button class=\"colab-df-convert\" onclick=\"convertToInteractive('df-f25e8464-4c20-45d3-a948-51cbbdefa2f3')\"\n",
              "              title=\"Convert this dataframe to an interactive table.\"\n",
              "              style=\"display:none;\">\n",
              "        \n",
              "  <svg xmlns=\"http://www.w3.org/2000/svg\" height=\"24px\"viewBox=\"0 0 24 24\"\n",
              "       width=\"24px\">\n",
              "    <path d=\"M0 0h24v24H0V0z\" fill=\"none\"/>\n",
              "    <path d=\"M18.56 5.44l.94 2.06.94-2.06 2.06-.94-2.06-.94-.94-2.06-.94 2.06-2.06.94zm-11 1L8.5 8.5l.94-2.06 2.06-.94-2.06-.94L8.5 2.5l-.94 2.06-2.06.94zm10 10l.94 2.06.94-2.06 2.06-.94-2.06-.94-.94-2.06-.94 2.06-2.06.94z\"/><path d=\"M17.41 7.96l-1.37-1.37c-.4-.4-.92-.59-1.43-.59-.52 0-1.04.2-1.43.59L10.3 9.45l-7.72 7.72c-.78.78-.78 2.05 0 2.83L4 21.41c.39.39.9.59 1.41.59.51 0 1.02-.2 1.41-.59l7.78-7.78 2.81-2.81c.8-.78.8-2.07 0-2.86zM5.41 20L4 18.59l7.72-7.72 1.47 1.35L5.41 20z\"/>\n",
              "  </svg>\n",
              "      </button>\n",
              "      \n",
              "  <style>\n",
              "    .colab-df-container {\n",
              "      display:flex;\n",
              "      flex-wrap:wrap;\n",
              "      gap: 12px;\n",
              "    }\n",
              "\n",
              "    .colab-df-convert {\n",
              "      background-color: #E8F0FE;\n",
              "      border: none;\n",
              "      border-radius: 50%;\n",
              "      cursor: pointer;\n",
              "      display: none;\n",
              "      fill: #1967D2;\n",
              "      height: 32px;\n",
              "      padding: 0 0 0 0;\n",
              "      width: 32px;\n",
              "    }\n",
              "\n",
              "    .colab-df-convert:hover {\n",
              "      background-color: #E2EBFA;\n",
              "      box-shadow: 0px 1px 2px rgba(60, 64, 67, 0.3), 0px 1px 3px 1px rgba(60, 64, 67, 0.15);\n",
              "      fill: #174EA6;\n",
              "    }\n",
              "\n",
              "    [theme=dark] .colab-df-convert {\n",
              "      background-color: #3B4455;\n",
              "      fill: #D2E3FC;\n",
              "    }\n",
              "\n",
              "    [theme=dark] .colab-df-convert:hover {\n",
              "      background-color: #434B5C;\n",
              "      box-shadow: 0px 1px 3px 1px rgba(0, 0, 0, 0.15);\n",
              "      filter: drop-shadow(0px 1px 2px rgba(0, 0, 0, 0.3));\n",
              "      fill: #FFFFFF;\n",
              "    }\n",
              "  </style>\n",
              "\n",
              "      <script>\n",
              "        const buttonEl =\n",
              "          document.querySelector('#df-f25e8464-4c20-45d3-a948-51cbbdefa2f3 button.colab-df-convert');\n",
              "        buttonEl.style.display =\n",
              "          google.colab.kernel.accessAllowed ? 'block' : 'none';\n",
              "\n",
              "        async function convertToInteractive(key) {\n",
              "          const element = document.querySelector('#df-f25e8464-4c20-45d3-a948-51cbbdefa2f3');\n",
              "          const dataTable =\n",
              "            await google.colab.kernel.invokeFunction('convertToInteractive',\n",
              "                                                     [key], {});\n",
              "          if (!dataTable) return;\n",
              "\n",
              "          const docLinkHtml = 'Like what you see? Visit the ' +\n",
              "            '<a target=\"_blank\" href=https://colab.research.google.com/notebooks/data_table.ipynb>data table notebook</a>'\n",
              "            + ' to learn more about interactive tables.';\n",
              "          element.innerHTML = '';\n",
              "          dataTable['output_type'] = 'display_data';\n",
              "          await google.colab.output.renderOutput(dataTable, element);\n",
              "          const docLink = document.createElement('div');\n",
              "          docLink.innerHTML = docLinkHtml;\n",
              "          element.appendChild(docLink);\n",
              "        }\n",
              "      </script>\n",
              "    </div>\n",
              "  </div>\n",
              "  "
            ]
          },
          "metadata": {},
          "execution_count": 6
        }
      ]
    },
    {
      "cell_type": "code",
      "source": [
        "#df['SrcAddr'] = pd.to_numeric(df[\"SrcAddr\"],downcast='float')\n",
        "#df['SrcAddr'] = pd.to_numeric(df[\"SrcAddr\"],errors='coerce')\n",
        "#df['DstAddr'] = pd.to_numeric(df[\"DstAddr\"],errors='coerce')\n",
        "#df['Sport'] = pd.to_numeric(df[\"Sport\"],errors='coerce')\n",
        "#df['SrcMac'] = pd.to_numeric(df[\"SrcMac\"],errors='coerce')\n",
        "#df['DstMac'] = pd.to_numeric(df[\"DstMac\"],errors='coerce')\n",
        "#print(df.dtypes)\n",
        "#df.Sport.unique()\n",
        "#df['Sport']=df['Sport'].fillna(df['Sport'].mean())"
      ],
      "metadata": {
        "id": "oIZLrhA7gPWg"
      },
      "execution_count": null,
      "outputs": []
    },
    {
      "cell_type": "code",
      "source": [
        "# Split dataset into training and testing sets\n",
        "#X_train, X_test, y_train, y_test = train_test_split(df.drop('Label', axis=1),\n",
        "                                                    df['Label'], test_size=0.2, random_state=42)"
      ],
      "metadata": {
        "id": "MF45q3vCwTe3"
      },
      "execution_count": null,
      "outputs": []
    },
    {
      "cell_type": "code",
      "source": [
        "from sklearn.model_selection import train_test_split\n",
        "\n",
        "X_train, X_test, y_train, y_test = train_test_split(X, y, test_size=0.2, random_state=30)"
      ],
      "metadata": {
        "id": "PXhljA_BFYTr"
      },
      "execution_count": null,
      "outputs": []
    },
    {
      "cell_type": "code",
      "source": [
        "import numpy as np\n",
        "from sklearn import svm\n",
        "\n",
        "\n",
        "# Train an SVM classifier on the training set\n",
        "cl = svm.SVC(kernel='linear', C=1, random_state=42)\n",
        "cl.fit(X_train, y_train)\n",
        "\n",
        "# Evaluate the classifier on the testing set\n",
        "y_pred5 = cl.predict(X_test)\n",
        "acc = accuracy_score(y_test, y_pred5)\n",
        "\n",
        "print('Accuracy:', acc)\n"
      ],
      "metadata": {
        "colab": {
          "base_uri": "https://localhost:8080/"
        },
        "id": "9UQ7M1KZMfR8",
        "outputId": "af7959a9-ebc6-4b6c-febc-2ddcb158dc33"
      },
      "execution_count": null,
      "outputs": [
        {
          "output_type": "stream",
          "name": "stdout",
          "text": [
            "Accuracy: 0.9255514705882353\n"
          ]
        }
      ]
    },
    {
      "cell_type": "code",
      "source": [
        "# Calculate accuracy, sensitivity, and specificity\n",
        "conf_mat = confusion_matrix(y_test, y_pred5)\n",
        "accuracy = cl.score(X_test, y_test)\n",
        "sensitivity = conf_mat.diagonal()/conf_mat.sum(axis=1)\n",
        "specificity = (np.trace(conf_mat)-conf_mat.diagonal())/((conf_mat.shape[0]*conf_mat.shape[1])-np.sum(conf_mat))\n",
        "\n",
        "# Print results\n",
        "print(\"Cross-validation scores:\", scores)\n",
        "print(\"Mean cross-validation score:\", np.mean(scores))\n",
        "print(\"Test set accuracy: %f\" % accuracy)\n",
        "print(\"Sensitivity: \", sensitivity)\n",
        "print(\"Specificity: \", specificity)\n",
        "print(\"Best hyperparameters: \", grid_search.best_params_)"
      ],
      "metadata": {
        "colab": {
          "base_uri": "https://localhost:8080/"
        },
        "id": "WcaCaR06M2Yo",
        "outputId": "8d16c858-31d1-40b5-cce6-4e0ce5177e6b"
      },
      "execution_count": null,
      "outputs": [
        {
          "output_type": "stream",
          "name": "stdout",
          "text": [
            "Cross-validation scores: [0.93489085 0.92837993 0.93527384 0.94101877 0.93639847]\n",
            "Mean cross-validation score: 0.9351923706217873\n",
            "Test set accuracy: 0.925551\n",
            "Sensitivity:  [0.99473315 0.45192308]\n",
            "Specificity:  [-0.05766871 -0.8690184 ]\n",
            "Best hyperparameters:  {'learning_rate_init': 0.001}\n"
          ]
        }
      ]
    },
    {
      "cell_type": "code",
      "source": [
        "# Feature Scaling\n",
        "#sc = StandardScaler()\n",
        "#X_train = sc.fit_transform(X_train)\n",
        "#X_test = sc.transform(X_test)"
      ],
      "metadata": {
        "id": "DITHH5m0wWj0"
      },
      "execution_count": null,
      "outputs": []
    },
    {
      "cell_type": "code",
      "source": [
        "import time\n",
        "#Start time\n",
        "start_time = time.time()\n",
        "\n",
        "# Train model\n",
        "clf = MLPClassifier(hidden_layer_sizes=(50, 50,50,50), max_iter=500, alpha=0.0001,\n",
        "                    verbose=10,  random_state=5, tol=0.000000001)\n",
        "clf.fit(X_train, y_train)\n",
        "\n",
        "# End time\n",
        "end_time = time.time()\n",
        "# Print time taken\n",
        "print(\"Time taken to train model: {:.2f} seconds\".format(end_time - start_time))"
      ],
      "metadata": {
        "colab": {
          "base_uri": "https://localhost:8080/"
        },
        "id": "23cOA9iswbDk",
        "outputId": "2383f13d-b313-47f1-b8f3-19957e0637cb"
      },
      "execution_count": null,
      "outputs": [
        {
          "output_type": "stream",
          "name": "stdout",
          "text": [
            "Iteration 1, loss = 7.02541387\n",
            "Iteration 2, loss = 5.82751466\n",
            "Iteration 3, loss = 5.37640987\n",
            "Iteration 4, loss = 5.09577484\n",
            "Iteration 5, loss = 5.61431990\n",
            "Iteration 6, loss = 5.53078896\n",
            "Iteration 7, loss = 5.34090320\n",
            "Iteration 8, loss = 5.10821080\n",
            "Iteration 9, loss = 4.75807392\n",
            "Iteration 10, loss = 4.63438301\n",
            "Iteration 11, loss = 4.81769661\n",
            "Iteration 12, loss = 4.47243582\n",
            "Iteration 13, loss = 4.80902244\n",
            "Iteration 14, loss = 4.53912900\n",
            "Iteration 15, loss = 4.77797534\n",
            "Iteration 16, loss = 4.77712058\n",
            "Iteration 17, loss = 4.14206966\n",
            "Iteration 18, loss = 4.56095327\n",
            "Iteration 19, loss = 4.41799239\n",
            "Iteration 20, loss = 4.39183109\n",
            "Iteration 21, loss = 3.42978294\n",
            "Iteration 22, loss = 4.52738894\n",
            "Iteration 23, loss = 4.15243018\n",
            "Iteration 24, loss = 4.27796251\n",
            "Iteration 25, loss = 4.15930506\n",
            "Iteration 26, loss = 5.83241303\n",
            "Iteration 27, loss = 5.05753269\n",
            "Iteration 28, loss = 4.16412555\n",
            "Iteration 29, loss = 3.98564982\n",
            "Iteration 30, loss = 4.14012473\n",
            "Iteration 31, loss = 3.50390473\n",
            "Iteration 32, loss = 3.04952064\n",
            "Iteration 33, loss = 3.31868698\n",
            "Iteration 34, loss = 3.55901107\n",
            "Iteration 35, loss = 3.48791551\n",
            "Iteration 36, loss = 3.41241940\n",
            "Iteration 37, loss = 2.77330122\n",
            "Iteration 38, loss = 2.99827295\n",
            "Iteration 39, loss = 2.63705497\n",
            "Iteration 40, loss = 2.66495038\n",
            "Iteration 41, loss = 2.46871624\n",
            "Iteration 42, loss = 2.46127150\n",
            "Iteration 43, loss = 2.32026391\n",
            "Iteration 44, loss = 1.33035840\n",
            "Iteration 45, loss = 2.06863149\n",
            "Iteration 46, loss = 1.68461984\n",
            "Iteration 47, loss = 2.02534744\n",
            "Iteration 48, loss = 1.50132816\n",
            "Iteration 49, loss = 1.92738971\n",
            "Iteration 50, loss = 2.12633350\n",
            "Iteration 51, loss = 1.46867545\n",
            "Iteration 52, loss = 2.20349191\n",
            "Iteration 53, loss = 1.91228489\n",
            "Iteration 54, loss = 1.44410229\n",
            "Iteration 55, loss = 0.38393883\n",
            "Iteration 56, loss = 0.43317118\n",
            "Iteration 57, loss = 0.29658579\n",
            "Iteration 58, loss = 0.29459090\n",
            "Iteration 59, loss = 0.44686737\n",
            "Iteration 60, loss = 0.29920300\n",
            "Iteration 61, loss = 0.29731038\n",
            "Iteration 62, loss = 0.53941196\n",
            "Iteration 63, loss = 0.88786179\n",
            "Iteration 64, loss = 0.59363671\n",
            "Iteration 65, loss = 0.57544991\n",
            "Iteration 66, loss = 0.29579530\n",
            "Iteration 67, loss = 0.28292770\n",
            "Iteration 68, loss = 0.31902799\n",
            "Iteration 69, loss = 0.28662811\n",
            "Iteration 70, loss = 0.28091049\n",
            "Iteration 71, loss = 0.27785336\n",
            "Iteration 72, loss = 0.28596059\n",
            "Iteration 73, loss = 0.30285475\n",
            "Iteration 74, loss = 0.29871085\n",
            "Iteration 75, loss = 0.26824669\n",
            "Iteration 76, loss = 0.31816836\n",
            "Iteration 77, loss = 0.26858172\n",
            "Iteration 78, loss = 0.28049963\n",
            "Iteration 79, loss = 0.27997791\n",
            "Iteration 80, loss = 0.26307810\n",
            "Iteration 81, loss = 0.26124211\n",
            "Iteration 82, loss = 0.33558453\n",
            "Iteration 83, loss = 0.28232938\n",
            "Iteration 84, loss = 0.26523307\n",
            "Iteration 85, loss = 0.32131695\n",
            "Iteration 86, loss = 0.27821483\n",
            "Iteration 87, loss = 0.30076129\n",
            "Iteration 88, loss = 0.28344616\n",
            "Iteration 89, loss = 2.09261033\n",
            "Iteration 90, loss = 6.16553418\n",
            "Iteration 91, loss = 5.99226238\n",
            "Iteration 92, loss = 5.07839055\n",
            "Training loss did not improve more than tol=0.000000 for 10 consecutive epochs. Stopping.\n",
            "Time taken to train model: 17.77 seconds\n"
          ]
        }
      ]
    },
    {
      "cell_type": "code",
      "source": [
        "# Make predictions\n",
        "y_pred = clf.predict(X_test)\n",
        "\n",
        "# Evaluate model\n",
        "#accuracy = clf.score(y_test, y_pred)\n",
        "print(\"Accuracy: {:.2f}%\".format(accuracy*100))"
      ],
      "metadata": {
        "colab": {
          "base_uri": "https://localhost:8080/"
        },
        "id": "8QVyZNptCd0k",
        "outputId": "48a8c9ee-9ebc-4707-995d-46c3271e69a6"
      },
      "execution_count": null,
      "outputs": [
        {
          "output_type": "stream",
          "name": "stdout",
          "text": [
            "Accuracy: 92.89%\n"
          ]
        }
      ]
    },
    {
      "cell_type": "code",
      "source": [
        "from sklearn.metrics import recall_score\n",
        "sensitivity = recall_score(y_test, y_pred, pos_label=1)\n",
        "print(\"Sensitivity:\", sensitivity)\n"
      ],
      "metadata": {
        "colab": {
          "base_uri": "https://localhost:8080/"
        },
        "id": "uQlfUvk34-xe",
        "outputId": "eb930077-2cdd-4dcb-c632-088799126e57"
      },
      "execution_count": null,
      "outputs": [
        {
          "output_type": "stream",
          "name": "stdout",
          "text": [
            "Sensitivity: 0.13930348258706468\n"
          ]
        }
      ]
    },
    {
      "cell_type": "code",
      "source": [
        "from sklearn.metrics import confusion_matrix\n",
        "# Calculate the confusion matrix\n",
        "tn, fp, fn, tp = confusion_matrix(y_test, y_pred).ravel()\n",
        "\n",
        "# Calculate the specificity score\n",
        "specificity = tn / (tn + fp)\n",
        "print(\"Specificity:\", specificity)"
      ],
      "metadata": {
        "colab": {
          "base_uri": "https://localhost:8080/"
        },
        "id": "kcDGqXYk5R-3",
        "outputId": "a443c1ae-977c-4fe5-ac65-64c2e40273f9"
      },
      "execution_count": null,
      "outputs": [
        {
          "output_type": "stream",
          "name": "stdout",
          "text": [
            "Specificity: 0.9940600978336828\n"
          ]
        }
      ]
    },
    {
      "cell_type": "markdown",
      "source": [
        "KNN\n"
      ],
      "metadata": {
        "id": "ye4XIx6Bgq8K"
      }
    },
    {
      "cell_type": "code",
      "source": [
        "from sklearn.neighbors import KNeighborsClassifier\n",
        "\n",
        "# Create a KNN classifier with k=18\n",
        "knn = KNeighborsClassifier(n_neighbors=18)\n",
        "\n",
        "# Train the model on the training set\n",
        "knn.fit(X_train_pca, y_train)\n",
        "\n",
        "# Predict the labels of the test set\n",
        "y_pred = knn.predict(X_test_pca)\n",
        "\n",
        "# Evaluate the accuracy of the model\n",
        "accuracy = knn.score(X_test_pca, y_test)\n",
        "print(\"Accuracy:\", accuracy)\n"
      ],
      "metadata": {
        "colab": {
          "base_uri": "https://localhost:8080/"
        },
        "id": "FFkaKobg56p6",
        "outputId": "afea0376-e6ca-4802-e8a3-71740720de48"
      },
      "execution_count": null,
      "outputs": [
        {
          "output_type": "stream",
          "name": "stdout",
          "text": [
            "Accuracy: 0.8725490196078431\n"
          ]
        }
      ]
    },
    {
      "cell_type": "code",
      "source": [
        "from sklearn.preprocessing import StandardScaler\n",
        "\n",
        "scaler = StandardScaler()\n",
        "X_scaled = scaler.fit_transform(X)\n",
        "X_scaled"
      ],
      "metadata": {
        "colab": {
          "base_uri": "https://localhost:8080/"
        },
        "id": "E2GjPnWL6k2b",
        "outputId": "88db4b3e-a97f-4c60-bbe5-32a947c18eb0"
      },
      "execution_count": null,
      "outputs": [
        {
          "output_type": "execute_result",
          "data": {
            "text/plain": [
              "array([[ -0.02570007,  -0.05829246,   0.81666448, ..., -10.59686476,\n",
              "         -2.46008006,  -2.2115606 ],\n",
              "       [ -0.02570007,  -0.05829246,   0.22420263, ...,   0.28759797,\n",
              "         -0.35268602,   1.34142235],\n",
              "       [ -0.02570007,  -0.05829246,   0.06278161, ...,   0.28759797,\n",
              "         -0.35268602,   1.34142235],\n",
              "       ...,\n",
              "       [ -0.02570007,  -0.05829246,   0.16082869, ...,  -0.410124  ,\n",
              "         -0.10475731,   0.45317661],\n",
              "       [ -0.02570007,  -0.05829246,   0.90837804, ...,  -0.410124  ,\n",
              "         -0.10475731,   0.45317661],\n",
              "       [ -0.02570007,  -0.05829246,  -2.63420327, ...,          nan,\n",
              "                 nan,          nan]])"
            ]
          },
          "metadata": {},
          "execution_count": 9
        }
      ]
    },
    {
      "cell_type": "code",
      "source": [
        "from sklearn.decomposition import PCA\n",
        "\n",
        "pca = PCA(0.95)\n",
        "X_pca = pca.fit_transform(X_scaled)\n",
        "X_pca.shape"
      ],
      "metadata": {
        "colab": {
          "base_uri": "https://localhost:8080/",
          "height": 484
        },
        "id": "bgF0GQIvHOtI",
        "outputId": "86c744da-c360-444e-f5c4-f747baad8144"
      },
      "execution_count": null,
      "outputs": [
        {
          "output_type": "error",
          "ename": "ValueError",
          "evalue": "ignored",
          "traceback": [
            "\u001b[0;31m---------------------------------------------------------------------------\u001b[0m",
            "\u001b[0;31mValueError\u001b[0m                                Traceback (most recent call last)",
            "\u001b[0;32m<ipython-input-10-aca075241836>\u001b[0m in \u001b[0;36m<cell line: 4>\u001b[0;34m()\u001b[0m\n\u001b[1;32m      2\u001b[0m \u001b[0;34m\u001b[0m\u001b[0m\n\u001b[1;32m      3\u001b[0m \u001b[0mpca\u001b[0m \u001b[0;34m=\u001b[0m \u001b[0mPCA\u001b[0m\u001b[0;34m(\u001b[0m\u001b[0;36m0.95\u001b[0m\u001b[0;34m)\u001b[0m\u001b[0;34m\u001b[0m\u001b[0;34m\u001b[0m\u001b[0m\n\u001b[0;32m----> 4\u001b[0;31m \u001b[0mX_pca\u001b[0m \u001b[0;34m=\u001b[0m \u001b[0mpca\u001b[0m\u001b[0;34m.\u001b[0m\u001b[0mfit_transform\u001b[0m\u001b[0;34m(\u001b[0m\u001b[0mX_scaled\u001b[0m\u001b[0;34m)\u001b[0m\u001b[0;34m\u001b[0m\u001b[0;34m\u001b[0m\u001b[0m\n\u001b[0m\u001b[1;32m      5\u001b[0m \u001b[0mX_pca\u001b[0m\u001b[0;34m.\u001b[0m\u001b[0mshape\u001b[0m\u001b[0;34m\u001b[0m\u001b[0;34m\u001b[0m\u001b[0m\n",
            "\u001b[0;32m/usr/local/lib/python3.10/dist-packages/sklearn/utils/_set_output.py\u001b[0m in \u001b[0;36mwrapped\u001b[0;34m(self, X, *args, **kwargs)\u001b[0m\n\u001b[1;32m    138\u001b[0m     \u001b[0;34m@\u001b[0m\u001b[0mwraps\u001b[0m\u001b[0;34m(\u001b[0m\u001b[0mf\u001b[0m\u001b[0;34m)\u001b[0m\u001b[0;34m\u001b[0m\u001b[0;34m\u001b[0m\u001b[0m\n\u001b[1;32m    139\u001b[0m     \u001b[0;32mdef\u001b[0m \u001b[0mwrapped\u001b[0m\u001b[0;34m(\u001b[0m\u001b[0mself\u001b[0m\u001b[0;34m,\u001b[0m \u001b[0mX\u001b[0m\u001b[0;34m,\u001b[0m \u001b[0;34m*\u001b[0m\u001b[0margs\u001b[0m\u001b[0;34m,\u001b[0m \u001b[0;34m**\u001b[0m\u001b[0mkwargs\u001b[0m\u001b[0;34m)\u001b[0m\u001b[0;34m:\u001b[0m\u001b[0;34m\u001b[0m\u001b[0;34m\u001b[0m\u001b[0m\n\u001b[0;32m--> 140\u001b[0;31m         \u001b[0mdata_to_wrap\u001b[0m \u001b[0;34m=\u001b[0m \u001b[0mf\u001b[0m\u001b[0;34m(\u001b[0m\u001b[0mself\u001b[0m\u001b[0;34m,\u001b[0m \u001b[0mX\u001b[0m\u001b[0;34m,\u001b[0m \u001b[0;34m*\u001b[0m\u001b[0margs\u001b[0m\u001b[0;34m,\u001b[0m \u001b[0;34m**\u001b[0m\u001b[0mkwargs\u001b[0m\u001b[0;34m)\u001b[0m\u001b[0;34m\u001b[0m\u001b[0;34m\u001b[0m\u001b[0m\n\u001b[0m\u001b[1;32m    141\u001b[0m         \u001b[0;32mif\u001b[0m \u001b[0misinstance\u001b[0m\u001b[0;34m(\u001b[0m\u001b[0mdata_to_wrap\u001b[0m\u001b[0;34m,\u001b[0m \u001b[0mtuple\u001b[0m\u001b[0;34m)\u001b[0m\u001b[0;34m:\u001b[0m\u001b[0;34m\u001b[0m\u001b[0;34m\u001b[0m\u001b[0m\n\u001b[1;32m    142\u001b[0m             \u001b[0;31m# only wrap the first output for cross decomposition\u001b[0m\u001b[0;34m\u001b[0m\u001b[0;34m\u001b[0m\u001b[0m\n",
            "\u001b[0;32m/usr/local/lib/python3.10/dist-packages/sklearn/decomposition/_pca.py\u001b[0m in \u001b[0;36mfit_transform\u001b[0;34m(self, X, y)\u001b[0m\n\u001b[1;32m    460\u001b[0m         \u001b[0mself\u001b[0m\u001b[0;34m.\u001b[0m\u001b[0m_validate_params\u001b[0m\u001b[0;34m(\u001b[0m\u001b[0;34m)\u001b[0m\u001b[0;34m\u001b[0m\u001b[0;34m\u001b[0m\u001b[0m\n\u001b[1;32m    461\u001b[0m \u001b[0;34m\u001b[0m\u001b[0m\n\u001b[0;32m--> 462\u001b[0;31m         \u001b[0mU\u001b[0m\u001b[0;34m,\u001b[0m \u001b[0mS\u001b[0m\u001b[0;34m,\u001b[0m \u001b[0mVt\u001b[0m \u001b[0;34m=\u001b[0m \u001b[0mself\u001b[0m\u001b[0;34m.\u001b[0m\u001b[0m_fit\u001b[0m\u001b[0;34m(\u001b[0m\u001b[0mX\u001b[0m\u001b[0;34m)\u001b[0m\u001b[0;34m\u001b[0m\u001b[0;34m\u001b[0m\u001b[0m\n\u001b[0m\u001b[1;32m    463\u001b[0m         \u001b[0mU\u001b[0m \u001b[0;34m=\u001b[0m \u001b[0mU\u001b[0m\u001b[0;34m[\u001b[0m\u001b[0;34m:\u001b[0m\u001b[0;34m,\u001b[0m \u001b[0;34m:\u001b[0m \u001b[0mself\u001b[0m\u001b[0;34m.\u001b[0m\u001b[0mn_components_\u001b[0m\u001b[0;34m]\u001b[0m\u001b[0;34m\u001b[0m\u001b[0;34m\u001b[0m\u001b[0m\n\u001b[1;32m    464\u001b[0m \u001b[0;34m\u001b[0m\u001b[0m\n",
            "\u001b[0;32m/usr/local/lib/python3.10/dist-packages/sklearn/decomposition/_pca.py\u001b[0m in \u001b[0;36m_fit\u001b[0;34m(self, X)\u001b[0m\n\u001b[1;32m    483\u001b[0m             )\n\u001b[1;32m    484\u001b[0m \u001b[0;34m\u001b[0m\u001b[0m\n\u001b[0;32m--> 485\u001b[0;31m         X = self._validate_data(\n\u001b[0m\u001b[1;32m    486\u001b[0m             \u001b[0mX\u001b[0m\u001b[0;34m,\u001b[0m \u001b[0mdtype\u001b[0m\u001b[0;34m=\u001b[0m\u001b[0;34m[\u001b[0m\u001b[0mnp\u001b[0m\u001b[0;34m.\u001b[0m\u001b[0mfloat64\u001b[0m\u001b[0;34m,\u001b[0m \u001b[0mnp\u001b[0m\u001b[0;34m.\u001b[0m\u001b[0mfloat32\u001b[0m\u001b[0;34m]\u001b[0m\u001b[0;34m,\u001b[0m \u001b[0mensure_2d\u001b[0m\u001b[0;34m=\u001b[0m\u001b[0;32mTrue\u001b[0m\u001b[0;34m,\u001b[0m \u001b[0mcopy\u001b[0m\u001b[0;34m=\u001b[0m\u001b[0mself\u001b[0m\u001b[0;34m.\u001b[0m\u001b[0mcopy\u001b[0m\u001b[0;34m\u001b[0m\u001b[0;34m\u001b[0m\u001b[0m\n\u001b[1;32m    487\u001b[0m         )\n",
            "\u001b[0;32m/usr/local/lib/python3.10/dist-packages/sklearn/base.py\u001b[0m in \u001b[0;36m_validate_data\u001b[0;34m(self, X, y, reset, validate_separately, **check_params)\u001b[0m\n\u001b[1;32m    563\u001b[0m             \u001b[0;32mraise\u001b[0m \u001b[0mValueError\u001b[0m\u001b[0;34m(\u001b[0m\u001b[0;34m\"Validation should be done on X, y or both.\"\u001b[0m\u001b[0;34m)\u001b[0m\u001b[0;34m\u001b[0m\u001b[0;34m\u001b[0m\u001b[0m\n\u001b[1;32m    564\u001b[0m         \u001b[0;32melif\u001b[0m \u001b[0;32mnot\u001b[0m \u001b[0mno_val_X\u001b[0m \u001b[0;32mand\u001b[0m \u001b[0mno_val_y\u001b[0m\u001b[0;34m:\u001b[0m\u001b[0;34m\u001b[0m\u001b[0;34m\u001b[0m\u001b[0m\n\u001b[0;32m--> 565\u001b[0;31m             \u001b[0mX\u001b[0m \u001b[0;34m=\u001b[0m \u001b[0mcheck_array\u001b[0m\u001b[0;34m(\u001b[0m\u001b[0mX\u001b[0m\u001b[0;34m,\u001b[0m \u001b[0minput_name\u001b[0m\u001b[0;34m=\u001b[0m\u001b[0;34m\"X\"\u001b[0m\u001b[0;34m,\u001b[0m \u001b[0;34m**\u001b[0m\u001b[0mcheck_params\u001b[0m\u001b[0;34m)\u001b[0m\u001b[0;34m\u001b[0m\u001b[0;34m\u001b[0m\u001b[0m\n\u001b[0m\u001b[1;32m    566\u001b[0m             \u001b[0mout\u001b[0m \u001b[0;34m=\u001b[0m \u001b[0mX\u001b[0m\u001b[0;34m\u001b[0m\u001b[0;34m\u001b[0m\u001b[0m\n\u001b[1;32m    567\u001b[0m         \u001b[0;32melif\u001b[0m \u001b[0mno_val_X\u001b[0m \u001b[0;32mand\u001b[0m \u001b[0;32mnot\u001b[0m \u001b[0mno_val_y\u001b[0m\u001b[0;34m:\u001b[0m\u001b[0;34m\u001b[0m\u001b[0;34m\u001b[0m\u001b[0m\n",
            "\u001b[0;32m/usr/local/lib/python3.10/dist-packages/sklearn/utils/validation.py\u001b[0m in \u001b[0;36mcheck_array\u001b[0;34m(array, accept_sparse, accept_large_sparse, dtype, order, copy, force_all_finite, ensure_2d, allow_nd, ensure_min_samples, ensure_min_features, estimator, input_name)\u001b[0m\n\u001b[1;32m    919\u001b[0m \u001b[0;34m\u001b[0m\u001b[0m\n\u001b[1;32m    920\u001b[0m         \u001b[0;32mif\u001b[0m \u001b[0mforce_all_finite\u001b[0m\u001b[0;34m:\u001b[0m\u001b[0;34m\u001b[0m\u001b[0;34m\u001b[0m\u001b[0m\n\u001b[0;32m--> 921\u001b[0;31m             _assert_all_finite(\n\u001b[0m\u001b[1;32m    922\u001b[0m                 \u001b[0marray\u001b[0m\u001b[0;34m,\u001b[0m\u001b[0;34m\u001b[0m\u001b[0;34m\u001b[0m\u001b[0m\n\u001b[1;32m    923\u001b[0m                 \u001b[0minput_name\u001b[0m\u001b[0;34m=\u001b[0m\u001b[0minput_name\u001b[0m\u001b[0;34m,\u001b[0m\u001b[0;34m\u001b[0m\u001b[0;34m\u001b[0m\u001b[0m\n",
            "\u001b[0;32m/usr/local/lib/python3.10/dist-packages/sklearn/utils/validation.py\u001b[0m in \u001b[0;36m_assert_all_finite\u001b[0;34m(X, allow_nan, msg_dtype, estimator_name, input_name)\u001b[0m\n\u001b[1;32m    159\u001b[0m                 \u001b[0;34m\"#estimators-that-handle-nan-values\"\u001b[0m\u001b[0;34m\u001b[0m\u001b[0;34m\u001b[0m\u001b[0m\n\u001b[1;32m    160\u001b[0m             )\n\u001b[0;32m--> 161\u001b[0;31m         \u001b[0;32mraise\u001b[0m \u001b[0mValueError\u001b[0m\u001b[0;34m(\u001b[0m\u001b[0mmsg_err\u001b[0m\u001b[0;34m)\u001b[0m\u001b[0;34m\u001b[0m\u001b[0;34m\u001b[0m\u001b[0m\n\u001b[0m\u001b[1;32m    162\u001b[0m \u001b[0;34m\u001b[0m\u001b[0m\n\u001b[1;32m    163\u001b[0m \u001b[0;34m\u001b[0m\u001b[0m\n",
            "\u001b[0;31mValueError\u001b[0m: Input X contains NaN.\nPCA does not accept missing values encoded as NaN natively. For supervised learning, you might want to consider sklearn.ensemble.HistGradientBoostingClassifier and Regressor which accept missing values encoded as NaNs natively. Alternatively, it is possible to preprocess the data, for instance by using an imputer transformer in a pipeline or drop samples with missing values. See https://scikit-learn.org/stable/modules/impute.html You can find a list of all estimators that handle NaN values at the following page: https://scikit-learn.org/stable/modules/impute.html#estimators-that-handle-nan-values"
          ]
        }
      ]
    },
    {
      "cell_type": "code",
      "source": [
        "X_pca"
      ],
      "metadata": {
        "colab": {
          "base_uri": "https://localhost:8080/"
        },
        "id": "mrwaaHGmNio0",
        "outputId": "546db824-e6c0-4f36-e4e3-b22483c89295"
      },
      "execution_count": null,
      "outputs": [
        {
          "output_type": "execute_result",
          "data": {
            "text/plain": [
              "array([[-2.06057295e-01,  1.50251100e-02,  1.40529581e+00, ...,\n",
              "         1.03290153e+01,  1.59880291e+01, -3.71995806e+00],\n",
              "       [-2.90542830e-02, -3.81673475e-01,  1.16083179e+00, ...,\n",
              "         5.67207318e+00,  2.32837659e+01, -5.77384631e+00],\n",
              "       [-1.33202997e-01, -7.87851824e-02,  9.20050859e-01, ...,\n",
              "        -1.75635764e-01, -3.86600539e-01, -5.05544552e-01],\n",
              "       ...,\n",
              "       [-4.44631486e-01,  8.22133274e-01,  6.27182118e-01, ...,\n",
              "        -2.20844614e+00,  3.11289543e-01, -2.77865050e-01],\n",
              "       [-2.94866059e-01,  2.86886433e-01,  5.56570130e-02, ...,\n",
              "        -1.32928614e-01,  4.04837800e-01, -2.28294464e-01],\n",
              "       [-4.17862391e-01,  7.43577989e-01,  5.31681251e-01, ...,\n",
              "        -2.61188196e-01,  3.96635127e-01, -2.18341867e-01]])"
            ]
          },
          "metadata": {},
          "execution_count": 10
        }
      ]
    },
    {
      "cell_type": "code",
      "source": [
        "pca.n_components_"
      ],
      "metadata": {
        "colab": {
          "base_uri": "https://localhost:8080/"
        },
        "id": "T83RNYLmIUUb",
        "outputId": "e3e8bacc-6c5d-4da3-f06e-44193cbb8f4a"
      },
      "execution_count": null,
      "outputs": [
        {
          "output_type": "execute_result",
          "data": {
            "text/plain": [
              "14"
            ]
          },
          "metadata": {},
          "execution_count": 22
        }
      ]
    },
    {
      "cell_type": "code",
      "source": [
        "pca.explained_variance_ratio_"
      ],
      "metadata": {
        "colab": {
          "base_uri": "https://localhost:8080/"
        },
        "id": "8LUbdrTRJoZF",
        "outputId": "ec7c38ef-026e-4544-b021-6e00eb1ef05d"
      },
      "execution_count": null,
      "outputs": [
        {
          "output_type": "execute_result",
          "data": {
            "text/plain": [
              "array([0.24290965, 0.14408942, 0.12169736, 0.08413514, 0.08280942,\n",
              "       0.05973078, 0.03950558, 0.03710242, 0.03333447, 0.03179337,\n",
              "       0.02660276, 0.02336481, 0.01616186, 0.01550787])"
            ]
          },
          "metadata": {},
          "execution_count": 12
        }
      ]
    },
    {
      "cell_type": "code",
      "source": [
        "X_train_pca, X_test_pca, y_train, y_test = train_test_split(X_pca, y, test_size=0.2, random_state=30)"
      ],
      "metadata": {
        "id": "NnRyEN-yImz-"
      },
      "execution_count": null,
      "outputs": []
    },
    {
      "cell_type": "code",
      "source": [
        "from sklearn.model_selection import train_test_split, GridSearchCV\n",
        "# Define the parameter grid to search over\n",
        "param_grid = {\n",
        "    'learning_rate_init': [0.001, 0.01, 0.1],\n",
        "}\n",
        "\n",
        "# Train an MLP classifier with GridSearchCV and learning rate hyperparameter\n",
        "clf = MLPClassifier(hidden_layer_sizes=(50, 50, 50, 50), max_iter=20, alpha=0.0001,\n",
        "                    verbose=10, random_state=5, tol=0.000000001,\n",
        "                    activation='relu', solver='adam', batch_size=64)\n",
        "grid_search = GridSearchCV(clf, param_grid=param_grid, cv=3)\n",
        "grid_search.fit(X_train_pca, y_train)\n",
        "\n",
        "# Evaluate the trained model\n",
        "score = grid_search.score(X_test_pca, y_test)\n",
        "print(\"Test set score: %f\" % score)\n",
        "\n",
        "# Print the best hyperparameters found by GridSearchCV\n",
        "print(\"Best hyperparameters: \", grid_search.best_params_)"
      ],
      "metadata": {
        "colab": {
          "base_uri": "https://localhost:8080/"
        },
        "id": "LJ29_yz-Hdlo",
        "outputId": "d6f85e50-d6e5-4bfc-b226-b8493d8de22b"
      },
      "execution_count": null,
      "outputs": [
        {
          "output_type": "stream",
          "name": "stdout",
          "text": [
            "Iteration 1, loss = 0.31913954\n",
            "Iteration 2, loss = 0.24917893\n",
            "Iteration 3, loss = 0.23454951\n",
            "Iteration 4, loss = 0.22478006\n",
            "Iteration 5, loss = 0.21786061\n",
            "Iteration 6, loss = 0.21214965\n",
            "Iteration 7, loss = 0.21169689\n",
            "Iteration 8, loss = 0.20251063\n",
            "Iteration 9, loss = 0.19886334\n",
            "Iteration 10, loss = 0.19708654\n",
            "Iteration 11, loss = 0.19137171\n",
            "Iteration 12, loss = 0.18787198\n",
            "Iteration 13, loss = 0.18584792\n",
            "Iteration 14, loss = 0.18329841\n",
            "Iteration 15, loss = 0.17948354\n",
            "Iteration 16, loss = 0.17641534\n",
            "Iteration 17, loss = 0.17246807\n",
            "Iteration 18, loss = 0.17433654\n",
            "Iteration 19, loss = 0.16733546\n",
            "Iteration 20, loss = 0.16530414\n"
          ]
        },
        {
          "output_type": "stream",
          "name": "stderr",
          "text": [
            "/usr/local/lib/python3.10/dist-packages/sklearn/neural_network/_multilayer_perceptron.py:686: ConvergenceWarning: Stochastic Optimizer: Maximum iterations (20) reached and the optimization hasn't converged yet.\n",
            "  warnings.warn(\n"
          ]
        },
        {
          "output_type": "stream",
          "name": "stdout",
          "text": [
            "Iteration 1, loss = 0.31864386\n",
            "Iteration 2, loss = 0.24992970\n",
            "Iteration 3, loss = 0.23259075\n",
            "Iteration 4, loss = 0.22541621\n",
            "Iteration 5, loss = 0.21899220\n",
            "Iteration 6, loss = 0.21364271\n",
            "Iteration 7, loss = 0.21092245\n",
            "Iteration 8, loss = 0.20559803\n",
            "Iteration 9, loss = 0.20302833\n",
            "Iteration 10, loss = 0.19843973\n",
            "Iteration 11, loss = 0.19190629\n",
            "Iteration 12, loss = 0.19301795\n",
            "Iteration 13, loss = 0.18677544\n",
            "Iteration 14, loss = 0.18391379\n",
            "Iteration 15, loss = 0.18482877\n",
            "Iteration 16, loss = 0.18066266\n",
            "Iteration 17, loss = 0.17867529\n",
            "Iteration 18, loss = 0.17178342\n",
            "Iteration 19, loss = 0.16910971\n",
            "Iteration 20, loss = 0.16934861\n"
          ]
        },
        {
          "output_type": "stream",
          "name": "stderr",
          "text": [
            "/usr/local/lib/python3.10/dist-packages/sklearn/neural_network/_multilayer_perceptron.py:686: ConvergenceWarning: Stochastic Optimizer: Maximum iterations (20) reached and the optimization hasn't converged yet.\n",
            "  warnings.warn(\n"
          ]
        },
        {
          "output_type": "stream",
          "name": "stdout",
          "text": [
            "Iteration 1, loss = 0.31913016\n",
            "Iteration 2, loss = 0.24998555\n",
            "Iteration 3, loss = 0.23052037\n",
            "Iteration 4, loss = 0.22332313\n",
            "Iteration 5, loss = 0.21773875\n",
            "Iteration 6, loss = 0.21127779\n",
            "Iteration 7, loss = 0.20878148\n",
            "Iteration 8, loss = 0.20228614\n",
            "Iteration 9, loss = 0.19918886\n",
            "Iteration 10, loss = 0.19307298\n",
            "Iteration 11, loss = 0.18845221\n",
            "Iteration 12, loss = 0.18657235\n",
            "Iteration 13, loss = 0.18819953\n",
            "Iteration 14, loss = 0.18041276\n",
            "Iteration 15, loss = 0.17947999\n",
            "Iteration 16, loss = 0.17629629\n",
            "Iteration 17, loss = 0.16997777\n",
            "Iteration 18, loss = 0.16895922\n",
            "Iteration 19, loss = 0.16663064\n",
            "Iteration 20, loss = 0.16507819\n"
          ]
        },
        {
          "output_type": "stream",
          "name": "stderr",
          "text": [
            "/usr/local/lib/python3.10/dist-packages/sklearn/neural_network/_multilayer_perceptron.py:686: ConvergenceWarning: Stochastic Optimizer: Maximum iterations (20) reached and the optimization hasn't converged yet.\n",
            "  warnings.warn(\n"
          ]
        },
        {
          "output_type": "stream",
          "name": "stdout",
          "text": [
            "Iteration 1, loss = 0.28599752\n",
            "Iteration 2, loss = 0.24383371\n",
            "Iteration 3, loss = 0.23458845\n",
            "Iteration 4, loss = 0.23199733\n",
            "Iteration 5, loss = 0.22511441\n",
            "Iteration 6, loss = 0.21938460\n",
            "Iteration 7, loss = 0.22456756\n",
            "Iteration 8, loss = 0.21721394\n",
            "Iteration 9, loss = 0.21241837\n",
            "Iteration 10, loss = 0.20783343\n",
            "Iteration 11, loss = 0.20315551\n",
            "Iteration 12, loss = 0.20000406\n",
            "Iteration 13, loss = 0.20077325\n",
            "Iteration 14, loss = 0.19540601\n",
            "Iteration 15, loss = 0.19366102\n",
            "Iteration 16, loss = 0.18665249\n",
            "Iteration 17, loss = 0.18804961\n",
            "Iteration 18, loss = 0.18429461\n",
            "Iteration 19, loss = 0.17891601\n",
            "Iteration 20, loss = 0.18174052\n"
          ]
        },
        {
          "output_type": "stream",
          "name": "stderr",
          "text": [
            "/usr/local/lib/python3.10/dist-packages/sklearn/neural_network/_multilayer_perceptron.py:686: ConvergenceWarning: Stochastic Optimizer: Maximum iterations (20) reached and the optimization hasn't converged yet.\n",
            "  warnings.warn(\n"
          ]
        },
        {
          "output_type": "stream",
          "name": "stdout",
          "text": [
            "Iteration 1, loss = 0.29269731\n",
            "Iteration 2, loss = 0.23939370\n",
            "Iteration 3, loss = 0.23824443\n",
            "Iteration 4, loss = 0.23287711\n",
            "Iteration 5, loss = 0.23155934\n",
            "Iteration 6, loss = 0.22251650\n",
            "Iteration 7, loss = 0.21858058\n",
            "Iteration 8, loss = 0.21502759\n",
            "Iteration 9, loss = 0.22198159\n",
            "Iteration 10, loss = 0.21163829\n",
            "Iteration 11, loss = 0.20499581\n",
            "Iteration 12, loss = 0.20951443\n",
            "Iteration 13, loss = 0.20127136\n",
            "Iteration 14, loss = 0.19936484\n",
            "Iteration 15, loss = 0.19850301\n",
            "Iteration 16, loss = 0.19397274\n",
            "Iteration 17, loss = 0.18849428\n",
            "Iteration 18, loss = 0.19045300\n",
            "Iteration 19, loss = 0.18704501\n",
            "Iteration 20, loss = 0.18684157\n"
          ]
        },
        {
          "output_type": "stream",
          "name": "stderr",
          "text": [
            "/usr/local/lib/python3.10/dist-packages/sklearn/neural_network/_multilayer_perceptron.py:686: ConvergenceWarning: Stochastic Optimizer: Maximum iterations (20) reached and the optimization hasn't converged yet.\n",
            "  warnings.warn(\n"
          ]
        },
        {
          "output_type": "stream",
          "name": "stdout",
          "text": [
            "Iteration 1, loss = 0.28729193\n",
            "Iteration 2, loss = 0.24374669\n",
            "Iteration 3, loss = 0.22776203\n",
            "Iteration 4, loss = 0.22549575\n",
            "Iteration 5, loss = 0.22164580\n",
            "Iteration 6, loss = 0.21654776\n",
            "Iteration 7, loss = 0.20951162\n",
            "Iteration 8, loss = 0.21365650\n",
            "Iteration 9, loss = 0.20912322\n",
            "Iteration 10, loss = 0.20067303\n",
            "Iteration 11, loss = 0.20113461\n",
            "Iteration 12, loss = 0.19600083\n",
            "Iteration 13, loss = 0.20174325\n",
            "Iteration 14, loss = 0.20228236\n",
            "Iteration 15, loss = 0.21441251\n",
            "Iteration 16, loss = 0.20284158\n",
            "Iteration 17, loss = 0.19407193\n",
            "Iteration 18, loss = 0.18908267\n",
            "Iteration 19, loss = 0.18305167\n",
            "Iteration 20, loss = 0.18256161\n"
          ]
        },
        {
          "output_type": "stream",
          "name": "stderr",
          "text": [
            "/usr/local/lib/python3.10/dist-packages/sklearn/neural_network/_multilayer_perceptron.py:686: ConvergenceWarning: Stochastic Optimizer: Maximum iterations (20) reached and the optimization hasn't converged yet.\n",
            "  warnings.warn(\n"
          ]
        },
        {
          "output_type": "stream",
          "name": "stdout",
          "text": [
            "Iteration 1, loss = 0.40357121\n",
            "Iteration 2, loss = 0.26061648\n",
            "Iteration 3, loss = 0.25289995\n",
            "Iteration 4, loss = 0.36286153\n",
            "Iteration 5, loss = 0.34486994\n",
            "Iteration 6, loss = 0.32011537\n",
            "Iteration 7, loss = 0.33605219\n",
            "Iteration 8, loss = 0.32277305\n",
            "Iteration 9, loss = 0.29054770\n",
            "Iteration 10, loss = 0.27005832\n",
            "Iteration 11, loss = 0.30126759\n",
            "Iteration 12, loss = 0.26393543\n",
            "Iteration 13, loss = 0.26376698\n",
            "Iteration 14, loss = 0.26594452\n",
            "Training loss did not improve more than tol=0.000000 for 10 consecutive epochs. Stopping.\n",
            "Iteration 1, loss = 0.39100688\n",
            "Iteration 2, loss = 0.35321494\n",
            "Iteration 3, loss = 0.34616225\n",
            "Iteration 4, loss = 0.36315051\n",
            "Iteration 5, loss = 0.35644259\n",
            "Iteration 6, loss = 0.36381144\n",
            "Iteration 7, loss = 0.37513404\n",
            "Iteration 8, loss = 0.37209841\n",
            "Iteration 9, loss = 0.35262329\n",
            "Iteration 10, loss = 0.34717676\n",
            "Iteration 11, loss = 0.33690714\n",
            "Iteration 12, loss = 0.33751322\n",
            "Iteration 13, loss = 0.33786566\n",
            "Iteration 14, loss = 0.35008250\n",
            "Iteration 15, loss = 0.36421837\n",
            "Iteration 16, loss = 0.36358334\n",
            "Iteration 17, loss = 0.36431911\n",
            "Iteration 18, loss = 0.36377704\n",
            "Iteration 19, loss = 0.36432864\n",
            "Iteration 20, loss = 0.36528968\n"
          ]
        },
        {
          "output_type": "stream",
          "name": "stderr",
          "text": [
            "/usr/local/lib/python3.10/dist-packages/sklearn/neural_network/_multilayer_perceptron.py:686: ConvergenceWarning: Stochastic Optimizer: Maximum iterations (20) reached and the optimization hasn't converged yet.\n",
            "  warnings.warn(\n"
          ]
        },
        {
          "output_type": "stream",
          "name": "stdout",
          "text": [
            "Iteration 1, loss = 0.34125687\n",
            "Iteration 2, loss = 0.40147802\n",
            "Iteration 3, loss = 0.38158777\n",
            "Iteration 4, loss = 0.38163470\n",
            "Iteration 5, loss = 0.38196617\n",
            "Iteration 6, loss = 0.38159858\n",
            "Iteration 7, loss = 0.38210711\n",
            "Iteration 8, loss = 0.38128102\n",
            "Iteration 9, loss = 0.38067922\n",
            "Iteration 10, loss = 0.38067514\n",
            "Iteration 11, loss = 0.38051906\n",
            "Iteration 12, loss = 0.38107484\n",
            "Training loss did not improve more than tol=0.000000 for 10 consecutive epochs. Stopping.\n",
            "Iteration 1, loss = 0.29378767\n",
            "Iteration 2, loss = 0.23786850\n",
            "Iteration 3, loss = 0.22287776\n",
            "Iteration 4, loss = 0.21734769\n",
            "Iteration 5, loss = 0.21076838\n",
            "Iteration 6, loss = 0.20386627\n",
            "Iteration 7, loss = 0.20083564\n",
            "Iteration 8, loss = 0.19531344\n",
            "Iteration 9, loss = 0.19238007\n",
            "Iteration 10, loss = 0.18659015\n",
            "Iteration 11, loss = 0.18368471\n",
            "Iteration 12, loss = 0.17862524\n",
            "Iteration 13, loss = 0.17454521\n",
            "Iteration 14, loss = 0.17133331\n",
            "Iteration 15, loss = 0.16919724\n",
            "Iteration 16, loss = 0.16638101\n",
            "Iteration 17, loss = 0.16292259\n",
            "Iteration 18, loss = 0.16046437\n",
            "Iteration 19, loss = 0.15932335\n",
            "Iteration 20, loss = 0.15930443\n",
            "Test set score: 0.935049\n",
            "Best hyperparameters:  {'learning_rate_init': 0.001}\n"
          ]
        },
        {
          "output_type": "stream",
          "name": "stderr",
          "text": [
            "/usr/local/lib/python3.10/dist-packages/sklearn/neural_network/_multilayer_perceptron.py:686: ConvergenceWarning: Stochastic Optimizer: Maximum iterations (20) reached and the optimization hasn't converged yet.\n",
            "  warnings.warn(\n"
          ]
        }
      ]
    },
    {
      "cell_type": "code",
      "source": [
        "# Make predictions\n",
        "y_pred = clf.predict(X_test_pca)\n",
        "\n",
        "# Evaluate model\n",
        "accuracy = accuracy_score(y_test, y_pred)\n",
        "print(\"Accuracy: {:.2f}%\".format(accuracy*100))\n"
      ],
      "metadata": {
        "colab": {
          "base_uri": "https://localhost:8080/"
        },
        "id": "ot3UK2iqJXh4",
        "outputId": "3dd74246-2792-4f9c-d8b2-64c317daf0cd"
      },
      "execution_count": null,
      "outputs": [
        {
          "output_type": "stream",
          "name": "stdout",
          "text": [
            "Accuracy: 94.39%\n"
          ]
        }
      ]
    },
    {
      "cell_type": "code",
      "source": [
        "from sklearn.metrics import recall_score\n",
        "sensitivity = recall_score(y_test, y_pred, pos_label=1)\n",
        "print(\"Sensitivity:\", sensitivity)\n"
      ],
      "metadata": {
        "colab": {
          "base_uri": "https://localhost:8080/"
        },
        "id": "1XwJE27b3xYs",
        "outputId": "89b1ce95-3d50-4d54-d0ab-62a752967d99"
      },
      "execution_count": null,
      "outputs": [
        {
          "output_type": "stream",
          "name": "stdout",
          "text": [
            "Sensitivity: 0.6169154228855721\n"
          ]
        }
      ]
    },
    {
      "cell_type": "code",
      "source": [
        "from sklearn.metrics import confusion_matrix\n",
        "# Calculate the confusion matrix\n",
        "tn, fp, fn, tp = confusion_matrix(y_test, y_pred).ravel()\n",
        "\n",
        "# Calculate the specificity score\n",
        "specificity = tn / (tn + fp)\n",
        "print(\"Specificity:\", specificity)"
      ],
      "metadata": {
        "colab": {
          "base_uri": "https://localhost:8080/"
        },
        "id": "F964CmhB4pqu",
        "outputId": "7eef53c9-25cb-4e45-915f-bcb419466b15"
      },
      "execution_count": null,
      "outputs": [
        {
          "output_type": "stream",
          "name": "stdout",
          "text": [
            "Specificity: 0.9898672257162823\n"
          ]
        }
      ]
    },
    {
      "cell_type": "code",
      "source": [
        "pca.explained_variance_ratio_"
      ],
      "metadata": {
        "colab": {
          "base_uri": "https://localhost:8080/"
        },
        "id": "DvOiKJ3YJjcU",
        "outputId": "207ac450-675b-46a3-dfc4-8cb459857262"
      },
      "execution_count": null,
      "outputs": [
        {
          "output_type": "execute_result",
          "data": {
            "text/plain": [
              "array([0.24290965, 0.14408942, 0.12169736, 0.08413514, 0.08280942,\n",
              "       0.05973078, 0.03950558, 0.03710242, 0.03333447, 0.03179337,\n",
              "       0.02660276, 0.02336481, 0.01616186, 0.01550787])"
            ]
          },
          "metadata": {},
          "execution_count": 16
        }
      ]
    },
    {
      "cell_type": "code",
      "source": [
        "from sklearn.neighbors import KNeighborsClassifier\n",
        "\n",
        "# Create a KNN classifier with k=18\n",
        "knn = KNeighborsClassifier(n_neighbors=18)\n",
        "\n",
        "# Train the model on the training set\n",
        "knn.fit(X_train_pca, y_train)\n",
        "\n",
        "# Predict the labels of the test set\n",
        "y_pred = knn.predict(X_test_pca)\n",
        "\n",
        "# Evaluate the accuracy of the model\n",
        "accuracy = knn.score(X_test_pca, y_test)\n",
        "print(\"Accuracy:\", accuracy)\n"
      ],
      "metadata": {
        "colab": {
          "base_uri": "https://localhost:8080/"
        },
        "id": "mJzOpot0G60s",
        "outputId": "dd243976-9950-4e6e-c83e-87a0fb944180"
      },
      "execution_count": null,
      "outputs": [
        {
          "output_type": "stream",
          "name": "stdout",
          "text": [
            "Accuracy: 0.930453431372549\n"
          ]
        }
      ]
    },
    {
      "cell_type": "code",
      "source": [
        "from sklearn.neighbors import KNeighborsClassifier\n",
        "\n",
        "# Create a KNN classifier with k=18\n",
        "knn = KNeighborsClassifier(n_neighbors=18)\n",
        "\n",
        "# Train the model on the training set\n",
        "knn.fit(X_train, y_train)\n",
        "\n",
        "# Predict the labels of the test set\n",
        "y_pred = knn.predict(X_test)\n",
        "\n",
        "# Evaluate the accuracy of the model\n",
        "accuracy = knn.score(X_test, y_test)\n",
        "print(\"Accuracy:\", accuracy)"
      ],
      "metadata": {
        "colab": {
          "base_uri": "https://localhost:8080/"
        },
        "id": "V09H0iH_7Eoo",
        "outputId": "5ec4fdc5-579f-4061-9d0d-078c458711a5"
      },
      "execution_count": null,
      "outputs": [
        {
          "output_type": "stream",
          "name": "stdout",
          "text": [
            "Accuracy: 0.9255514705882353\n"
          ]
        }
      ]
    },
    {
      "cell_type": "code",
      "source": [
        "import numpy as np\n",
        "from sklearn import svm\n",
        "\n",
        "\n",
        "# Train an SVM classifier on the training set\n",
        "clf = svm.SVC(kernel='linear', C=1, random_state=42)\n",
        "clf.fit(X_train_pca, y_train)\n",
        "\n",
        "# Evaluate the classifier on the testing set\n",
        "y_pred = clf.predict(X_test_pca)\n",
        "acc = accuracy_score(y_test, y_pred)\n",
        "\n",
        "print('Accuracy:', acc)\n"
      ],
      "metadata": {
        "colab": {
          "base_uri": "https://localhost:8080/"
        },
        "id": "LzK3Nf91M3Q8",
        "outputId": "423d754c-9263-4ae1-e324-33161f7cb75a"
      },
      "execution_count": null,
      "outputs": [
        {
          "output_type": "stream",
          "name": "stdout",
          "text": [
            "Accuracy: 0.9249387254901961\n"
          ]
        }
      ]
    },
    {
      "cell_type": "code",
      "source": [
        "from sklearn.preprocessing import StandardScaler\n",
        "\n",
        "scaler = StandardScaler()\n",
        "X_scaled = scaler.fit_transform(X)\n",
        "X_scaled"
      ],
      "metadata": {
        "colab": {
          "base_uri": "https://localhost:8080/"
        },
        "id": "ibMzsx-WRePA",
        "outputId": "6701059f-ca02-45bc-d336-9a9e066224b9"
      },
      "execution_count": null,
      "outputs": [
        {
          "output_type": "execute_result",
          "data": {
            "text/plain": [
              "array([[ -0.0227494 ,  -0.05766847,   0.81928062, ..., -11.41550613,\n",
              "         -2.68858057,  -2.48138523],\n",
              "       [ -0.0227494 ,  -0.05766847,   0.24101703, ...,   0.38676231,\n",
              "         -0.36796157,   1.36561766],\n",
              "       [ -0.0227494 ,  -0.05766847,   0.08346444, ...,   0.38676231,\n",
              "         -0.36796157,   1.36561766],\n",
              "       ...,\n",
              "       [ -0.0227494 ,  -0.05766847,   0.96600572, ...,  -0.36979336,\n",
              "         -0.09494757,   0.40386693],\n",
              "       [ -0.0227494 ,  -0.05766847,   0.32676824, ...,  -0.36979336,\n",
              "         -0.09494757,   0.40386693],\n",
              "       [ -0.0227494 ,  -0.05766847,   0.84214425, ...,  -0.36979336,\n",
              "         -0.09494757,   0.40386693]])"
            ]
          },
          "metadata": {},
          "execution_count": 20
        }
      ]
    },
    {
      "cell_type": "code",
      "source": [
        "pca = PCA(0.95)\n",
        "X_pca = pca.fit_transform(X_scaled)\n",
        "X_pca.shape"
      ],
      "metadata": {
        "id": "GC3R8UlHtjCm",
        "colab": {
          "base_uri": "https://localhost:8080/"
        },
        "outputId": "62f5cc18-4637-48d0-fefe-b898b27bd32a"
      },
      "execution_count": null,
      "outputs": [
        {
          "output_type": "execute_result",
          "data": {
            "text/plain": [
              "(16318, 14)"
            ]
          },
          "metadata": {},
          "execution_count": 23
        }
      ]
    },
    {
      "cell_type": "code",
      "source": [
        "import matplotlib.pyplot as plt\n",
        "\n",
        "# Define the number of features before and after encoding\n",
        "num_features_before_encoding = 36\n",
        "num_features_after_encoding = 14\n",
        "\n",
        "# Compute the number of features retained and discarded\n",
        "num_features_retained = num_features_after_encoding\n",
        "num_features_discarded = num_features_before_encoding - num_features_after_encoding\n",
        "\n",
        "# Create labels for the pie chart\n",
        "labels = ['Retained Features', 'Discarded Features']\n",
        "\n",
        "# Create sizes for the pie chart\n",
        "sizes = [num_features_retained, num_features_discarded]\n",
        "\n",
        "# Create colors for the pie chart\n",
        "colors = ['green', 'red']\n",
        "\n",
        "# Create values for the pie chart\n",
        "values = [num_features_retained, num_features_discarded]\n",
        "\n",
        "# Plot the pie chart\n",
        "plt.pie(sizes, labels=labels, colors=colors, autopct='%1.1f%%', startangle=90)\n",
        "plt.axis('equal')  # Equal aspect ratio ensures that pie is drawn as a circle\n",
        "plt.title('Reduction of Features after Encoding')\n",
        "\n",
        "# Add values to the segments of the pie chart\n",
        "for i, value in enumerate(values):\n",
        "    plt.text(0.5 * (i - 0.5), 0, str(value), color='white', fontweight='bold', ha='center', va='center')\n",
        "\n",
        "plt.show()\n"
      ],
      "metadata": {
        "colab": {
          "base_uri": "https://localhost:8080/",
          "height": 428
        },
        "id": "z58ZG1CO-jim",
        "outputId": "e6ec01a9-2b7c-46d2-b54a-5e6cb6497544"
      },
      "execution_count": null,
      "outputs": [
        {
          "output_type": "display_data",
          "data": {
            "text/plain": [
              "<Figure size 640x480 with 1 Axes>"
            ],
            "image/png": "[encoded data removed]"
          },
          "metadata": {}
        }
      ]
    },
    {
      "cell_type": "code",
      "source": [
        "import pandas as pd\n",
        "\n",
        "input_file = '/content/wustl-ehms-2020.csv'  # Path to the input CSV file\n",
        "output_directory = '/content/1.csv'  # Path to the output directory where split files will be saved\n",
        "columns_to_split = ['Dir', 'Packet_num']  # Specify the columns to split on\n",
        "\n",
        "# Read the input CSV file into a DataFrame\n",
        "df = pd.read_csv(input_file)\n",
        "\n",
        "# Iterate over the unique combinations of values in the specified columns\n",
        "for _, group in df.groupby(columns_to_split):\n",
        "    # Generate a unique filename based on the column values\n",
        "    filename = '_'.join(str(val) for val in group.iloc[0][columns_to_split]) + '.csv'\n",
        "    output_file = output_directory + filename\n",
        "\n",
        "    # Save the grouped data as a separate CSV file\n",
        "    group.to_csv(output_file, index=False)\n",
        "\n",
        "print(\"CSV file splitting complete.\")\n"
      ],
      "metadata": {
        "colab": {
          "base_uri": "https://localhost:8080/"
        },
        "id": "CCNo-0ilq4Vb",
        "outputId": "ea1c4159-50e8-4324-92c5-3a312e846a6a"
      },
      "execution_count": null,
      "outputs": [
        {
          "output_type": "stream",
          "name": "stdout",
          "text": [
            "CSV file splitting complete.\n"
          ]
        }
      ]
    },
    {
      "cell_type": "code",
      "source": [
        "import pandas as pd\n",
        "from sklearn.model_selection import train_test_split, cross_val_score\n",
        "from sklearn.neural_network import MLPClassifier\n",
        "\n",
        "\n",
        "# Define the parameters for input layer, hidden layer, and output layer\n",
        "input_layer_size = X.shape[1]  # Number of features in the input data\n",
        "hidden_layer_sizes = (100, 50)  # Size of each hidden layer\n",
        "output_layer_size = len(y.unique())  # Number of classes in the output (i.e., number of neurons in the output layer)\n",
        "import time\n",
        "#Start time\n",
        "start_time = time.time()\n",
        "# Create the MLP classifier with the specified layer sizes\n",
        "mlp_classifier = MLPClassifier(hidden_layer_sizes=hidden_layer_sizes, activation='relu', solver='adam', max_iter=500)\n",
        "\n",
        "# Split the data into training and testing sets\n",
        "X_train, X_test, y_train, y_test = train_test_split(X, y, test_size=0.2, random_state=42)\n",
        "\n",
        "# Perform k-fold cross-validation on the training data\n",
        "k = 5  # number of folds\n",
        "scores = cross_val_score(mlp_classifier, X_train, y_train, cv=k)\n",
        "\n",
        "clf.fit(X_train, y_train)\n",
        "\n",
        "# Train the classifier on the full training set\n",
        "mlp_classifier.fit(X_train, y_train)\n",
        "# End time\n",
        "end_time = time.time()\n",
        "# Print time taken\n",
        "print(\"Time taken to train model: {:.2f} seconds\".format(end_time - start_time))\n",
        "# Evaluate the classifier on the testing set\n",
        "score = mlp_classifier.score(X_test, y_test)\n",
        "\n",
        "print(\"Average cross-validation accuracy: {:.2f}\".format(scores.mean()))\n",
        "print(\"Testing accuracy: {:.2f}\".format(score))\n"
      ],
      "metadata": {
        "colab": {
          "base_uri": "https://localhost:8080/"
        },
        "id": "joWHJcaGG8PK",
        "outputId": "731fec34-73e3-455f-bb69-ef2c7735d74e"
      },
      "execution_count": null,
      "outputs": [
        {
          "output_type": "stream",
          "name": "stdout",
          "text": [
            "Iteration 1, loss = 7.56992455\n",
            "Iteration 2, loss = 5.92078998\n",
            "Iteration 3, loss = 5.40999195\n",
            "Iteration 4, loss = 5.69510345\n",
            "Iteration 5, loss = 5.00958827\n",
            "Iteration 6, loss = 4.84724470\n",
            "Iteration 7, loss = 5.10889102\n",
            "Iteration 8, loss = 5.18258025\n",
            "Iteration 9, loss = 5.32054212\n",
            "Iteration 10, loss = 4.94161732\n",
            "Iteration 11, loss = 4.80192921\n",
            "Iteration 12, loss = 4.48279439\n",
            "Iteration 13, loss = 4.62499284\n",
            "Iteration 14, loss = 4.65805370\n",
            "Iteration 15, loss = 4.49946378\n",
            "Iteration 16, loss = 3.92993915\n",
            "Iteration 17, loss = 4.17708591\n",
            "Iteration 18, loss = 4.44195968\n",
            "Iteration 19, loss = 3.83410377\n",
            "Iteration 20, loss = 3.92259130\n",
            "Iteration 21, loss = 4.09856110\n",
            "Iteration 22, loss = 3.82643138\n",
            "Iteration 23, loss = 3.82142756\n",
            "Iteration 24, loss = 3.82785512\n",
            "Iteration 25, loss = 3.47254868\n",
            "Iteration 26, loss = 4.23170945\n",
            "Iteration 27, loss = 3.94111104\n",
            "Iteration 28, loss = 3.17079667\n",
            "Iteration 29, loss = 3.13351179\n",
            "Iteration 30, loss = 3.16338692\n",
            "Iteration 31, loss = 2.96654721\n",
            "Iteration 32, loss = 2.50635348\n",
            "Iteration 33, loss = 2.75469379\n",
            "Iteration 34, loss = 2.50730468\n",
            "Iteration 35, loss = 2.39960302\n",
            "Iteration 36, loss = 2.18288380\n",
            "Iteration 37, loss = 2.30759131\n",
            "Iteration 38, loss = 2.01761679\n",
            "Iteration 39, loss = 2.52422981\n",
            "Iteration 40, loss = 3.08607291\n",
            "Iteration 41, loss = 4.37191319\n",
            "Iteration 42, loss = 4.08803355\n",
            "Iteration 43, loss = 3.72180517\n",
            "Iteration 44, loss = 3.52025896\n",
            "Iteration 45, loss = 2.40898141\n",
            "Iteration 46, loss = 1.78656476\n",
            "Iteration 47, loss = 2.46342835\n",
            "Iteration 48, loss = 2.36865655\n",
            "Iteration 49, loss = 1.49309783\n",
            "Iteration 50, loss = 1.55483409\n",
            "Iteration 51, loss = 0.98384674\n",
            "Iteration 52, loss = 1.47240801\n",
            "Iteration 53, loss = 1.01410951\n",
            "Iteration 54, loss = 0.72896692\n",
            "Iteration 55, loss = 0.29048112\n",
            "Iteration 56, loss = 0.29022838\n",
            "Iteration 57, loss = 0.28679899\n",
            "Iteration 58, loss = 0.28375814\n",
            "Iteration 59, loss = 0.27798740\n",
            "Iteration 60, loss = 0.30925493\n",
            "Iteration 61, loss = 0.27853125\n",
            "Iteration 62, loss = 0.32469433\n",
            "Iteration 63, loss = 0.53462827\n",
            "Iteration 64, loss = 0.29586304\n",
            "Iteration 65, loss = 0.27912654\n",
            "Iteration 66, loss = 0.27597305\n",
            "Iteration 67, loss = 0.27749943\n",
            "Iteration 68, loss = 0.27227886\n",
            "Iteration 69, loss = 0.27586684\n",
            "Iteration 70, loss = 0.27974125\n",
            "Iteration 71, loss = 0.27755437\n",
            "Iteration 72, loss = 0.27610122\n",
            "Iteration 73, loss = 0.28316128\n",
            "Iteration 74, loss = 0.31444155\n",
            "Iteration 75, loss = 0.28551173\n",
            "Iteration 76, loss = 0.28284225\n",
            "Iteration 77, loss = 0.27067866\n",
            "Iteration 78, loss = 0.28934862\n",
            "Iteration 79, loss = 0.54033560\n",
            "Iteration 80, loss = 5.42863198\n",
            "Iteration 81, loss = 2.69110914\n",
            "Iteration 82, loss = 2.51123716\n",
            "Iteration 83, loss = 1.04219850\n",
            "Iteration 84, loss = 1.42840438\n",
            "Iteration 85, loss = 0.31369980\n",
            "Iteration 86, loss = 0.26864650\n",
            "Iteration 87, loss = 0.26454644\n",
            "Iteration 88, loss = 0.29459680\n",
            "Iteration 89, loss = 0.26662957\n",
            "Iteration 90, loss = 0.26145148\n",
            "Iteration 91, loss = 0.27007739\n",
            "Iteration 92, loss = 0.27238107\n",
            "Iteration 93, loss = 0.27412401\n",
            "Iteration 94, loss = 0.28226325\n",
            "Iteration 95, loss = 0.27287562\n",
            "Iteration 96, loss = 0.26493082\n",
            "Iteration 97, loss = 0.25293165\n",
            "Iteration 98, loss = 0.27644447\n",
            "Iteration 99, loss = 0.36034936\n",
            "Iteration 100, loss = 2.40715319\n",
            "Iteration 101, loss = 0.97407180\n",
            "Iteration 102, loss = 0.59492092\n",
            "Iteration 103, loss = 0.41342102\n",
            "Iteration 104, loss = 0.32994339\n",
            "Iteration 105, loss = 0.29119699\n",
            "Iteration 106, loss = 0.26803024\n",
            "Iteration 107, loss = 0.26054457\n",
            "Iteration 108, loss = 0.25576653\n",
            "Training loss did not improve more than tol=0.000000 for 10 consecutive epochs. Stopping.\n",
            "Time taken to train model: 61.34 seconds\n",
            "Average cross-validation accuracy: 0.76\n",
            "Testing accuracy: 0.91\n"
          ]
        }
      ]
    },
    {
      "cell_type": "code",
      "source": [
        "import pandas as pd\n",
        "from sklearn.model_selection import train_test_split, cross_val_score\n",
        "from sklearn.neural_network import MLPClassifier\n",
        "\n",
        "\n",
        "# Define the parameters for input layer, hidden layer, and output layer\n",
        "input_layer_size = X.shape[1]  # Number of features in the input data\n",
        "hidden_layer_sizes = (100, 50)  # Size of each hidden layer\n",
        "output_layer_size = len(y.unique())  # Number of classes in the output (i.e., number of neurons in the output layer)\n",
        "import time\n",
        "#Start time\n",
        "start_time = time.time()\n",
        "# Create the MLP classifier with the specified layer sizes\n",
        "mlp_classifier = MLPClassifier(hidden_layer_sizes=hidden_layer_sizes, activation='relu', solver='adam', max_iter=500)\n",
        "\n",
        "# Split the data into training and testing sets\n",
        "X_train, X_test, y_train, y_test = train_test_split(X_pca, y, test_size=0.2, random_state=42)\n",
        "\n",
        "# Perform k-fold cross-validation on the training data\n",
        "k = 5  # number of folds\n",
        "scores = cross_val_score(mlp_classifier, X_train, y_train, cv=k)\n",
        "\n",
        "clf.fit(X_train, y_train)\n",
        "\n",
        "# End time\n",
        "end_time = time.time()\n",
        "# Print time taken\n",
        "print(\"Time taken to train model: {:.2f} seconds\".format(end_time - start_time))\n",
        "\n",
        "# Train the classifier on the full training set\n",
        "mlp_classifier.fit(X_train, y_train)\n",
        "\n",
        "# Evaluate the classifier on the testing set\n",
        "score = mlp_classifier.score(X_test, y_test)\n",
        "\n",
        "print(\"Average cross-validation accuracy: {:.2f}\".format(scores.mean()))\n",
        "print(\"Testing accuracy: {:.2f}\".format(score))\n"
      ],
      "metadata": {
        "colab": {
          "base_uri": "https://localhost:8080/"
        },
        "id": "igiOog5nW-8A",
        "outputId": "f339ba5a-8695-45e5-e31d-f638bc053846"
      },
      "execution_count": null,
      "outputs": [
        {
          "output_type": "stream",
          "name": "stdout",
          "text": [
            "Iteration 1, loss = 0.34498305\n",
            "Iteration 2, loss = 0.26130436\n",
            "Iteration 3, loss = 0.23777956\n",
            "Iteration 4, loss = 0.22856495\n",
            "Iteration 5, loss = 0.22042747\n",
            "Iteration 6, loss = 0.21444204\n",
            "Iteration 7, loss = 0.20872061\n",
            "Iteration 8, loss = 0.20526411\n",
            "Iteration 9, loss = 0.19989884\n",
            "Iteration 10, loss = 0.19695656\n",
            "Iteration 11, loss = 0.19366645\n",
            "Iteration 12, loss = 0.18949201\n",
            "Iteration 13, loss = 0.18750968\n",
            "Iteration 14, loss = 0.18446035\n",
            "Iteration 15, loss = 0.18110066\n",
            "Iteration 16, loss = 0.18094116\n",
            "Iteration 17, loss = 0.17668038\n",
            "Iteration 18, loss = 0.17441097\n",
            "Iteration 19, loss = 0.17060632\n",
            "Iteration 20, loss = 0.16977901\n",
            "Iteration 21, loss = 0.16814344\n",
            "Iteration 22, loss = 0.16605019\n",
            "Iteration 23, loss = 0.16340563\n",
            "Iteration 24, loss = 0.15967678\n",
            "Iteration 25, loss = 0.16100704\n",
            "Iteration 26, loss = 0.15850639\n",
            "Iteration 27, loss = 0.16261859\n",
            "Iteration 28, loss = 0.15731580\n",
            "Iteration 29, loss = 0.15392136\n",
            "Iteration 30, loss = 0.15021089\n",
            "Iteration 31, loss = 0.14984303\n",
            "Iteration 32, loss = 0.15099348\n",
            "Iteration 33, loss = 0.14651927\n",
            "Iteration 34, loss = 0.14626206\n",
            "Iteration 35, loss = 0.14944927\n",
            "Iteration 36, loss = 0.14785073\n",
            "Iteration 37, loss = 0.14448256\n",
            "Iteration 38, loss = 0.14249993\n",
            "Iteration 39, loss = 0.14042678\n",
            "Iteration 40, loss = 0.14135530\n",
            "Iteration 41, loss = 0.13872699\n",
            "Iteration 42, loss = 0.13694941\n",
            "Iteration 43, loss = 0.13705024\n",
            "Iteration 44, loss = 0.13704693\n",
            "Iteration 45, loss = 0.13481393\n",
            "Iteration 46, loss = 0.14125848\n",
            "Iteration 47, loss = 0.13242934\n",
            "Iteration 48, loss = 0.13090164\n",
            "Iteration 49, loss = 0.12895370\n",
            "Iteration 50, loss = 0.13084886\n",
            "Iteration 51, loss = 0.13081353\n",
            "Iteration 52, loss = 0.12859488\n",
            "Iteration 53, loss = 0.13195073\n",
            "Iteration 54, loss = 0.12771857\n",
            "Iteration 55, loss = 0.12938657\n",
            "Iteration 56, loss = 0.12742702\n",
            "Iteration 57, loss = 0.12880341\n",
            "Iteration 58, loss = 0.12307054\n",
            "Iteration 59, loss = 0.12461769\n",
            "Iteration 60, loss = 0.12285898\n",
            "Iteration 61, loss = 0.12238450\n",
            "Iteration 62, loss = 0.12208064\n",
            "Iteration 63, loss = 0.12158501\n",
            "Iteration 64, loss = 0.12130337\n",
            "Iteration 65, loss = 0.12093176\n",
            "Iteration 66, loss = 0.11972458\n",
            "Iteration 67, loss = 0.11974113\n",
            "Iteration 68, loss = 0.11930556\n",
            "Iteration 69, loss = 0.12007683\n",
            "Iteration 70, loss = 0.11722478\n",
            "Iteration 71, loss = 0.11902100\n",
            "Iteration 72, loss = 0.11502276\n",
            "Iteration 73, loss = 0.11352749\n",
            "Iteration 74, loss = 0.11571672\n",
            "Iteration 75, loss = 0.11583793\n",
            "Iteration 76, loss = 0.11261002\n",
            "Iteration 77, loss = 0.11615227\n",
            "Iteration 78, loss = 0.11626344\n",
            "Iteration 79, loss = 0.11490947\n",
            "Iteration 80, loss = 0.11398291\n",
            "Iteration 81, loss = 0.11201602\n",
            "Iteration 82, loss = 0.10986320\n",
            "Iteration 83, loss = 0.11239309\n",
            "Iteration 84, loss = 0.10788455\n",
            "Iteration 85, loss = 0.11187401\n",
            "Iteration 86, loss = 0.10924326\n",
            "Iteration 87, loss = 0.11037879\n",
            "Iteration 88, loss = 0.10866711\n",
            "Iteration 89, loss = 0.10733264\n",
            "Iteration 90, loss = 0.11005975\n",
            "Iteration 91, loss = 0.10912118\n",
            "Iteration 92, loss = 0.10668518\n",
            "Iteration 93, loss = 0.10610152\n",
            "Iteration 94, loss = 0.10362954\n",
            "Iteration 95, loss = 0.10545805\n",
            "Iteration 96, loss = 0.10710804\n",
            "Iteration 97, loss = 0.10796063\n",
            "Iteration 98, loss = 0.10499508\n",
            "Iteration 99, loss = 0.10699537\n",
            "Iteration 100, loss = 0.10064709\n",
            "Iteration 101, loss = 0.10508950\n",
            "Iteration 102, loss = 0.10643055\n",
            "Iteration 103, loss = 0.10612271\n",
            "Iteration 104, loss = 0.10849620\n",
            "Iteration 105, loss = 0.10335565\n",
            "Iteration 106, loss = 0.10087533\n",
            "Iteration 107, loss = 0.10639803\n",
            "Iteration 108, loss = 0.11054957\n",
            "Iteration 109, loss = 0.10330665\n",
            "Iteration 110, loss = 0.10489228\n",
            "Iteration 111, loss = 0.10083887\n",
            "Training loss did not improve more than tol=0.000000 for 10 consecutive epochs. Stopping.\n",
            "Time taken to train model: 174.84 seconds\n",
            "Average cross-validation accuracy: 0.94\n",
            "Testing accuracy: 0.95\n"
          ]
        }
      ]
    },
    {
      "cell_type": "markdown",
      "source": [
        "MLP with pca"
      ],
      "metadata": {
        "id": "chAUNQDnIL5h"
      }
    },
    {
      "cell_type": "code",
      "source": [
        "X_train_pca, X_test_pca, y_train, y_test = train_test_split(X_pca, y, test_size=0.2, random_state=30)"
      ],
      "metadata": {
        "id": "UPft40c0I-nB"
      },
      "execution_count": null,
      "outputs": []
    },
    {
      "cell_type": "code",
      "source": [
        "from sklearn.model_selection import train_test_split, GridSearchCV, cross_val_score\n",
        "from sklearn.neural_network import MLPClassifier\n",
        "from sklearn.metrics import confusion_matrix\n",
        "clf = MLPClassifier(hidden_layer_sizes=(50, 50, 50, 50), max_iter=20, alpha=0.0001,\n",
        "                    verbose=10, random_state=5, tol=0.000000001,\n",
        "                    activation='relu', solver='adam', batch_size=64,\n",
        "                    # Set logistic activation for the output layer\n",
        "                    )\n",
        "\n",
        "# Use GridSearchCV with 3-fold cross-validation to find the optimal hyperparameters\n",
        "grid_search = GridSearchCV(clf, param_grid=param_grid, cv=3)\n",
        "grid_search.fit(X_train_pca, y_train)\n",
        "best_clf = grid_search.best_estimator_\n",
        "\n",
        "# Use cross-validation with 5 folds to evaluate the trained model\n",
        "scores = cross_val_score(best_clf, X_train_pca, y_train, cv=5)\n",
        "\n",
        "# Evaluate the trained model on the test set\n",
        "y_pred = best_clf.predict(X_test_pca)"
      ],
      "metadata": {
        "colab": {
          "base_uri": "https://localhost:8080/"
        },
        "id": "vAQMtrV6Gda-",
        "outputId": "58d97059-00dc-4d94-d87a-88329c6b7a79"
      },
      "execution_count": null,
      "outputs": [
        {
          "output_type": "stream",
          "name": "stdout",
          "text": [
            "Iteration 1, loss = 0.31913954\n",
            "Iteration 2, loss = 0.24917893\n",
            "Iteration 3, loss = 0.23454951\n",
            "Iteration 4, loss = 0.22478006\n",
            "Iteration 5, loss = 0.21786061\n",
            "Iteration 6, loss = 0.21214965\n",
            "Iteration 7, loss = 0.21169689\n",
            "Iteration 8, loss = 0.20251063\n",
            "Iteration 9, loss = 0.19886334\n",
            "Iteration 10, loss = 0.19708654\n",
            "Iteration 11, loss = 0.19137171\n",
            "Iteration 12, loss = 0.18787198\n",
            "Iteration 13, loss = 0.18584792\n",
            "Iteration 14, loss = 0.18329841\n",
            "Iteration 15, loss = 0.17948354\n",
            "Iteration 16, loss = 0.17641534\n",
            "Iteration 17, loss = 0.17246807\n",
            "Iteration 18, loss = 0.17433654\n",
            "Iteration 19, loss = 0.16733546\n",
            "Iteration 20, loss = 0.16530414\n"
          ]
        },
        {
          "output_type": "stream",
          "name": "stderr",
          "text": [
            "/usr/local/lib/python3.10/dist-packages/sklearn/neural_network/_multilayer_perceptron.py:686: ConvergenceWarning: Stochastic Optimizer: Maximum iterations (20) reached and the optimization hasn't converged yet.\n",
            "  warnings.warn(\n"
          ]
        },
        {
          "output_type": "stream",
          "name": "stdout",
          "text": [
            "Iteration 1, loss = 0.31864386\n",
            "Iteration 2, loss = 0.24992970\n",
            "Iteration 3, loss = 0.23259075\n",
            "Iteration 4, loss = 0.22541621\n",
            "Iteration 5, loss = 0.21899220\n",
            "Iteration 6, loss = 0.21364271\n",
            "Iteration 7, loss = 0.21092245\n",
            "Iteration 8, loss = 0.20559803\n",
            "Iteration 9, loss = 0.20302833\n",
            "Iteration 10, loss = 0.19843973\n",
            "Iteration 11, loss = 0.19190629\n",
            "Iteration 12, loss = 0.19301795\n",
            "Iteration 13, loss = 0.18677544\n",
            "Iteration 14, loss = 0.18391379\n",
            "Iteration 15, loss = 0.18482877\n",
            "Iteration 16, loss = 0.18066266\n",
            "Iteration 17, loss = 0.17867529\n",
            "Iteration 18, loss = 0.17178342\n",
            "Iteration 19, loss = 0.16910971\n",
            "Iteration 20, loss = 0.16934861\n"
          ]
        },
        {
          "output_type": "stream",
          "name": "stderr",
          "text": [
            "/usr/local/lib/python3.10/dist-packages/sklearn/neural_network/_multilayer_perceptron.py:686: ConvergenceWarning: Stochastic Optimizer: Maximum iterations (20) reached and the optimization hasn't converged yet.\n",
            "  warnings.warn(\n"
          ]
        },
        {
          "output_type": "stream",
          "name": "stdout",
          "text": [
            "Iteration 1, loss = 0.31913016\n",
            "Iteration 2, loss = 0.24998555\n",
            "Iteration 3, loss = 0.23052037\n",
            "Iteration 4, loss = 0.22332313\n",
            "Iteration 5, loss = 0.21773875\n",
            "Iteration 6, loss = 0.21127779\n",
            "Iteration 7, loss = 0.20878148\n",
            "Iteration 8, loss = 0.20228614\n",
            "Iteration 9, loss = 0.19918886\n",
            "Iteration 10, loss = 0.19307298\n",
            "Iteration 11, loss = 0.18845221\n",
            "Iteration 12, loss = 0.18657235\n",
            "Iteration 13, loss = 0.18819953\n",
            "Iteration 14, loss = 0.18041276\n",
            "Iteration 15, loss = 0.17947999\n",
            "Iteration 16, loss = 0.17629629\n",
            "Iteration 17, loss = 0.16997777\n",
            "Iteration 18, loss = 0.16895922\n",
            "Iteration 19, loss = 0.16663064\n",
            "Iteration 20, loss = 0.16507819\n"
          ]
        },
        {
          "output_type": "stream",
          "name": "stderr",
          "text": [
            "/usr/local/lib/python3.10/dist-packages/sklearn/neural_network/_multilayer_perceptron.py:686: ConvergenceWarning: Stochastic Optimizer: Maximum iterations (20) reached and the optimization hasn't converged yet.\n",
            "  warnings.warn(\n"
          ]
        },
        {
          "output_type": "stream",
          "name": "stdout",
          "text": [
            "Iteration 1, loss = 0.28599752\n",
            "Iteration 2, loss = 0.24383371\n",
            "Iteration 3, loss = 0.23458845\n",
            "Iteration 4, loss = 0.23199733\n",
            "Iteration 5, loss = 0.22511441\n",
            "Iteration 6, loss = 0.21938460\n",
            "Iteration 7, loss = 0.22456756\n",
            "Iteration 8, loss = 0.21721394\n",
            "Iteration 9, loss = 0.21241837\n",
            "Iteration 10, loss = 0.20783343\n",
            "Iteration 11, loss = 0.20315551\n",
            "Iteration 12, loss = 0.20000406\n",
            "Iteration 13, loss = 0.20077325\n",
            "Iteration 14, loss = 0.19540601\n",
            "Iteration 15, loss = 0.19366102\n",
            "Iteration 16, loss = 0.18665249\n",
            "Iteration 17, loss = 0.18804961\n",
            "Iteration 18, loss = 0.18429461\n",
            "Iteration 19, loss = 0.17891601\n",
            "Iteration 20, loss = 0.18174052\n"
          ]
        },
        {
          "output_type": "stream",
          "name": "stderr",
          "text": [
            "/usr/local/lib/python3.10/dist-packages/sklearn/neural_network/_multilayer_perceptron.py:686: ConvergenceWarning: Stochastic Optimizer: Maximum iterations (20) reached and the optimization hasn't converged yet.\n",
            "  warnings.warn(\n"
          ]
        },
        {
          "output_type": "stream",
          "name": "stdout",
          "text": [
            "Iteration 1, loss = 0.29269731\n",
            "Iteration 2, loss = 0.23939370\n",
            "Iteration 3, loss = 0.23824443\n",
            "Iteration 4, loss = 0.23287711\n",
            "Iteration 5, loss = 0.23155934\n",
            "Iteration 6, loss = 0.22251650\n",
            "Iteration 7, loss = 0.21858058\n",
            "Iteration 8, loss = 0.21502759\n",
            "Iteration 9, loss = 0.22198159\n",
            "Iteration 10, loss = 0.21163829\n",
            "Iteration 11, loss = 0.20499581\n",
            "Iteration 12, loss = 0.20951443\n",
            "Iteration 13, loss = 0.20127136\n",
            "Iteration 14, loss = 0.19936484\n",
            "Iteration 15, loss = 0.19850301\n",
            "Iteration 16, loss = 0.19397274\n",
            "Iteration 17, loss = 0.18849428\n",
            "Iteration 18, loss = 0.19045300\n",
            "Iteration 19, loss = 0.18704501\n",
            "Iteration 20, loss = 0.18684157\n"
          ]
        },
        {
          "output_type": "stream",
          "name": "stderr",
          "text": [
            "/usr/local/lib/python3.10/dist-packages/sklearn/neural_network/_multilayer_perceptron.py:686: ConvergenceWarning: Stochastic Optimizer: Maximum iterations (20) reached and the optimization hasn't converged yet.\n",
            "  warnings.warn(\n"
          ]
        },
        {
          "output_type": "stream",
          "name": "stdout",
          "text": [
            "Iteration 1, loss = 0.28729193\n",
            "Iteration 2, loss = 0.24374669\n",
            "Iteration 3, loss = 0.22776203\n",
            "Iteration 4, loss = 0.22549575\n",
            "Iteration 5, loss = 0.22164580\n",
            "Iteration 6, loss = 0.21654776\n",
            "Iteration 7, loss = 0.20951162\n",
            "Iteration 8, loss = 0.21365650\n",
            "Iteration 9, loss = 0.20912322\n",
            "Iteration 10, loss = 0.20067303\n",
            "Iteration 11, loss = 0.20113461\n",
            "Iteration 12, loss = 0.19600083\n",
            "Iteration 13, loss = 0.20174325\n",
            "Iteration 14, loss = 0.20228236\n",
            "Iteration 15, loss = 0.21441251\n",
            "Iteration 16, loss = 0.20284158\n",
            "Iteration 17, loss = 0.19407193\n",
            "Iteration 18, loss = 0.18908267\n",
            "Iteration 19, loss = 0.18305167\n",
            "Iteration 20, loss = 0.18256161\n"
          ]
        },
        {
          "output_type": "stream",
          "name": "stderr",
          "text": [
            "/usr/local/lib/python3.10/dist-packages/sklearn/neural_network/_multilayer_perceptron.py:686: ConvergenceWarning: Stochastic Optimizer: Maximum iterations (20) reached and the optimization hasn't converged yet.\n",
            "  warnings.warn(\n"
          ]
        },
        {
          "output_type": "stream",
          "name": "stdout",
          "text": [
            "Iteration 1, loss = 0.40357121\n",
            "Iteration 2, loss = 0.26061648\n",
            "Iteration 3, loss = 0.25289995\n",
            "Iteration 4, loss = 0.36286153\n",
            "Iteration 5, loss = 0.34486994\n",
            "Iteration 6, loss = 0.32011537\n",
            "Iteration 7, loss = 0.33605219\n",
            "Iteration 8, loss = 0.32277305\n",
            "Iteration 9, loss = 0.29054770\n",
            "Iteration 10, loss = 0.27005832\n",
            "Iteration 11, loss = 0.30126759\n",
            "Iteration 12, loss = 0.26393543\n",
            "Iteration 13, loss = 0.26376698\n",
            "Iteration 14, loss = 0.26594452\n",
            "Training loss did not improve more than tol=0.000000 for 10 consecutive epochs. Stopping.\n",
            "Iteration 1, loss = 0.39100688\n",
            "Iteration 2, loss = 0.35321494\n",
            "Iteration 3, loss = 0.34616225\n",
            "Iteration 4, loss = 0.36315051\n",
            "Iteration 5, loss = 0.35644259\n",
            "Iteration 6, loss = 0.36381144\n",
            "Iteration 7, loss = 0.37513404\n",
            "Iteration 8, loss = 0.37209841\n",
            "Iteration 9, loss = 0.35262329\n",
            "Iteration 10, loss = 0.34717676\n",
            "Iteration 11, loss = 0.33690714\n",
            "Iteration 12, loss = 0.33751322\n",
            "Iteration 13, loss = 0.33786566\n",
            "Iteration 14, loss = 0.35008250\n",
            "Iteration 15, loss = 0.36421837\n",
            "Iteration 16, loss = 0.36358334\n",
            "Iteration 17, loss = 0.36431911\n",
            "Iteration 18, loss = 0.36377704\n",
            "Iteration 19, loss = 0.36432864\n",
            "Iteration 20, loss = 0.36528968\n"
          ]
        },
        {
          "output_type": "stream",
          "name": "stderr",
          "text": [
            "/usr/local/lib/python3.10/dist-packages/sklearn/neural_network/_multilayer_perceptron.py:686: ConvergenceWarning: Stochastic Optimizer: Maximum iterations (20) reached and the optimization hasn't converged yet.\n",
            "  warnings.warn(\n"
          ]
        },
        {
          "output_type": "stream",
          "name": "stdout",
          "text": [
            "Iteration 1, loss = 0.34125687\n",
            "Iteration 2, loss = 0.40147802\n",
            "Iteration 3, loss = 0.38158777\n",
            "Iteration 4, loss = 0.38163470\n",
            "Iteration 5, loss = 0.38196617\n",
            "Iteration 6, loss = 0.38159858\n",
            "Iteration 7, loss = 0.38210711\n",
            "Iteration 8, loss = 0.38128102\n",
            "Iteration 9, loss = 0.38067922\n",
            "Iteration 10, loss = 0.38067514\n",
            "Iteration 11, loss = 0.38051906\n",
            "Iteration 12, loss = 0.38107484\n",
            "Training loss did not improve more than tol=0.000000 for 10 consecutive epochs. Stopping.\n",
            "Iteration 1, loss = 0.29378767\n",
            "Iteration 2, loss = 0.23786850\n",
            "Iteration 3, loss = 0.22287776\n",
            "Iteration 4, loss = 0.21734769\n",
            "Iteration 5, loss = 0.21076838\n",
            "Iteration 6, loss = 0.20386627\n",
            "Iteration 7, loss = 0.20083564\n",
            "Iteration 8, loss = 0.19531344\n",
            "Iteration 9, loss = 0.19238007\n",
            "Iteration 10, loss = 0.18659015\n",
            "Iteration 11, loss = 0.18368471\n",
            "Iteration 12, loss = 0.17862524\n",
            "Iteration 13, loss = 0.17454521\n",
            "Iteration 14, loss = 0.17133331\n",
            "Iteration 15, loss = 0.16919724\n",
            "Iteration 16, loss = 0.16638101\n",
            "Iteration 17, loss = 0.16292259\n",
            "Iteration 18, loss = 0.16046437\n",
            "Iteration 19, loss = 0.15932335\n",
            "Iteration 20, loss = 0.15930443\n",
            "Iteration 1, loss = 0.30793564\n"
          ]
        },
        {
          "output_type": "stream",
          "name": "stderr",
          "text": [
            "/usr/local/lib/python3.10/dist-packages/sklearn/neural_network/_multilayer_perceptron.py:686: ConvergenceWarning: Stochastic Optimizer: Maximum iterations (20) reached and the optimization hasn't converged yet.\n",
            "  warnings.warn(\n"
          ]
        },
        {
          "output_type": "stream",
          "name": "stdout",
          "text": [
            "Iteration 2, loss = 0.23967493\n",
            "Iteration 3, loss = 0.22792836\n",
            "Iteration 4, loss = 0.21738608\n",
            "Iteration 5, loss = 0.21441542\n",
            "Iteration 6, loss = 0.20767200\n",
            "Iteration 7, loss = 0.20431215\n",
            "Iteration 8, loss = 0.20025742\n",
            "Iteration 9, loss = 0.19951869\n",
            "Iteration 10, loss = 0.19137025\n",
            "Iteration 11, loss = 0.18802461\n",
            "Iteration 12, loss = 0.18494114\n",
            "Iteration 13, loss = 0.18193464\n",
            "Iteration 14, loss = 0.17855299\n",
            "Iteration 15, loss = 0.17548650\n",
            "Iteration 16, loss = 0.17081104\n",
            "Iteration 17, loss = 0.16811068\n",
            "Iteration 18, loss = 0.16676409\n",
            "Iteration 19, loss = 0.16266374\n",
            "Iteration 20, loss = 0.16178370\n"
          ]
        },
        {
          "output_type": "stream",
          "name": "stderr",
          "text": [
            "/usr/local/lib/python3.10/dist-packages/sklearn/neural_network/_multilayer_perceptron.py:686: ConvergenceWarning: Stochastic Optimizer: Maximum iterations (20) reached and the optimization hasn't converged yet.\n",
            "  warnings.warn(\n"
          ]
        },
        {
          "output_type": "stream",
          "name": "stdout",
          "text": [
            "Iteration 1, loss = 0.30415209\n",
            "Iteration 2, loss = 0.24306255\n",
            "Iteration 3, loss = 0.23248200\n",
            "Iteration 4, loss = 0.22458746\n",
            "Iteration 5, loss = 0.21728284\n",
            "Iteration 6, loss = 0.21150708\n",
            "Iteration 7, loss = 0.20544396\n",
            "Iteration 8, loss = 0.20240432\n",
            "Iteration 9, loss = 0.19781991\n",
            "Iteration 10, loss = 0.19080917\n",
            "Iteration 11, loss = 0.18858427\n",
            "Iteration 12, loss = 0.18313203\n",
            "Iteration 13, loss = 0.18233101\n",
            "Iteration 14, loss = 0.17738133\n",
            "Iteration 15, loss = 0.17613033\n",
            "Iteration 16, loss = 0.17291589\n",
            "Iteration 17, loss = 0.16743505\n",
            "Iteration 18, loss = 0.16703042\n",
            "Iteration 19, loss = 0.16463381\n",
            "Iteration 20, loss = 0.16305630\n"
          ]
        },
        {
          "output_type": "stream",
          "name": "stderr",
          "text": [
            "/usr/local/lib/python3.10/dist-packages/sklearn/neural_network/_multilayer_perceptron.py:686: ConvergenceWarning: Stochastic Optimizer: Maximum iterations (20) reached and the optimization hasn't converged yet.\n",
            "  warnings.warn(\n"
          ]
        },
        {
          "output_type": "stream",
          "name": "stdout",
          "text": [
            "Iteration 1, loss = 0.31123760\n",
            "Iteration 2, loss = 0.24376942\n",
            "Iteration 3, loss = 0.22828226\n",
            "Iteration 4, loss = 0.22506647\n",
            "Iteration 5, loss = 0.21687141\n",
            "Iteration 6, loss = 0.21197248\n",
            "Iteration 7, loss = 0.20625686\n",
            "Iteration 8, loss = 0.20482251\n",
            "Iteration 9, loss = 0.19823146\n",
            "Iteration 10, loss = 0.19455476\n",
            "Iteration 11, loss = 0.19014009\n",
            "Iteration 12, loss = 0.18698514\n",
            "Iteration 13, loss = 0.18647328\n",
            "Iteration 14, loss = 0.18107716\n",
            "Iteration 15, loss = 0.18174222\n",
            "Iteration 16, loss = 0.17571140\n",
            "Iteration 17, loss = 0.17556345\n",
            "Iteration 18, loss = 0.17043549\n",
            "Iteration 19, loss = 0.17016196\n",
            "Iteration 20, loss = 0.16614031\n"
          ]
        },
        {
          "output_type": "stream",
          "name": "stderr",
          "text": [
            "/usr/local/lib/python3.10/dist-packages/sklearn/neural_network/_multilayer_perceptron.py:686: ConvergenceWarning: Stochastic Optimizer: Maximum iterations (20) reached and the optimization hasn't converged yet.\n",
            "  warnings.warn(\n"
          ]
        },
        {
          "output_type": "stream",
          "name": "stdout",
          "text": [
            "Iteration 1, loss = 0.30202981\n",
            "Iteration 2, loss = 0.23835834\n",
            "Iteration 3, loss = 0.22520199\n",
            "Iteration 4, loss = 0.21786149\n",
            "Iteration 5, loss = 0.21128564\n",
            "Iteration 6, loss = 0.20449022\n",
            "Iteration 7, loss = 0.20078555\n",
            "Iteration 8, loss = 0.19862230\n",
            "Iteration 9, loss = 0.19299775\n",
            "Iteration 10, loss = 0.18783653\n",
            "Iteration 11, loss = 0.18623817\n",
            "Iteration 12, loss = 0.18107506\n",
            "Iteration 13, loss = 0.17862592\n",
            "Iteration 14, loss = 0.17576256\n",
            "Iteration 15, loss = 0.17121530\n",
            "Iteration 16, loss = 0.16688363\n",
            "Iteration 17, loss = 0.16764082\n",
            "Iteration 18, loss = 0.16622430\n",
            "Iteration 19, loss = 0.16377359\n",
            "Iteration 20, loss = 0.15992212\n"
          ]
        },
        {
          "output_type": "stream",
          "name": "stderr",
          "text": [
            "/usr/local/lib/python3.10/dist-packages/sklearn/neural_network/_multilayer_perceptron.py:686: ConvergenceWarning: Stochastic Optimizer: Maximum iterations (20) reached and the optimization hasn't converged yet.\n",
            "  warnings.warn(\n"
          ]
        },
        {
          "output_type": "stream",
          "name": "stdout",
          "text": [
            "Iteration 1, loss = 0.30847262\n",
            "Iteration 2, loss = 0.24395910\n",
            "Iteration 3, loss = 0.22886506\n",
            "Iteration 4, loss = 0.21874656\n",
            "Iteration 5, loss = 0.21270937\n",
            "Iteration 6, loss = 0.20899151\n",
            "Iteration 7, loss = 0.20175472\n",
            "Iteration 8, loss = 0.19864703\n",
            "Iteration 9, loss = 0.19453027\n",
            "Iteration 10, loss = 0.18977418\n",
            "Iteration 11, loss = 0.18392096\n",
            "Iteration 12, loss = 0.18092278\n",
            "Iteration 13, loss = 0.17896836\n",
            "Iteration 14, loss = 0.17652896\n",
            "Iteration 15, loss = 0.17245583\n",
            "Iteration 16, loss = 0.17097204\n",
            "Iteration 17, loss = 0.16849811\n",
            "Iteration 18, loss = 0.16461171\n",
            "Iteration 19, loss = 0.16445414\n",
            "Iteration 20, loss = 0.15997690\n"
          ]
        },
        {
          "output_type": "stream",
          "name": "stderr",
          "text": [
            "/usr/local/lib/python3.10/dist-packages/sklearn/neural_network/_multilayer_perceptron.py:686: ConvergenceWarning: Stochastic Optimizer: Maximum iterations (20) reached and the optimization hasn't converged yet.\n",
            "  warnings.warn(\n"
          ]
        }
      ]
    },
    {
      "cell_type": "code",
      "source": [
        "# Calculate accuracy, sensitivity, and specificity\n",
        "conf_mat = confusion_matrix(y_test, y_pred)\n",
        "accuracy = best_clf.score(X_test_pca, y_test)\n",
        "sensitivity = conf_mat.diagonal()/conf_mat.sum(axis=1)\n",
        "specificity = (np.trace(conf_mat)-conf_mat.diagonal())/((conf_mat.shape[0]*conf_mat.shape[1])-np.sum(conf_mat))\n",
        "\n",
        "# Print results\n",
        "print(\"Cross-validation scores:\", scores)\n",
        "print(\"Mean cross-validation score:\", np.mean(scores))\n",
        "print(\"Test set accuracy: %f\" % accuracy)\n",
        "print(\"Sensitivity: \", sensitivity)\n",
        "print(\"Specificity: \", specificity)\n",
        "print(\"Best hyperparameters: \", grid_search.best_params_)"
      ],
      "metadata": {
        "colab": {
          "base_uri": "https://localhost:8080/"
        },
        "id": "bAQqWmU-H8i5",
        "outputId": "3919aa42-ed0e-4a9a-9a69-4fe6b599ed8c"
      },
      "execution_count": null,
      "outputs": [
        {
          "output_type": "stream",
          "name": "stdout",
          "text": [
            "Cross-validation scores: [0.93910379 0.94216775 0.93948679 0.93680582 0.94291188]\n",
            "Mean cross-validation score: 0.9400952058121328\n",
            "Test set accuracy: 0.935049\n",
            "Sensitivity:  [0.98322851 0.5920398 ]\n",
            "Specificity:  [-0.07300613 -0.86319018]\n",
            "Best hyperparameters:  {'learning_rate_init': 0.001}\n"
          ]
        }
      ]
    },
    {
      "cell_type": "code",
      "source": [
        "from sklearn.model_selection import cross_val_score\n",
        "from sklearn.svm import SVC\n",
        "from sklearn.datasets import load_iris\n",
        "from sklearn.model_selection import train_test_split\n",
        "\n",
        "\n",
        "# Split the data into training and testing sets\n",
        "X_train, X_test, y_train, y_test = train_test_split(X_pca, y, test_size=0.2, random_state=42)\n",
        "\n",
        "# Create an SVM classifier with a linear kernel\n",
        "svm = SVC(kernel='linear')\n",
        "svm.fit(X_train_pca, y_train)\n",
        "# Perform 10-fold cross-validation on the training data and calculate the mean accuracy score\n",
        "scores = cross_val_score(svm, X_train, y_train, cv=10)\n",
        "mean_accuracy = scores.mean()\n",
        "\n",
        "print(\"Mean accuracy:\", mean_accuracy)\n"
      ],
      "metadata": {
        "colab": {
          "base_uri": "https://localhost:8080/"
        },
        "id": "QoBiS53IrUU-",
        "outputId": "b1581747-9161-451a-e5d2-0039202d9e21"
      },
      "execution_count": null,
      "outputs": [
        {
          "output_type": "stream",
          "name": "stdout",
          "text": [
            "Mean accuracy: 0.9270723392770179\n"
          ]
        }
      ]
    },
    {
      "cell_type": "code",
      "source": [
        "\n",
        "# Evaluate the classifier on the testing set\n",
        "y_pred6 = svm.predict(X_test_pca)"
      ],
      "metadata": {
        "id": "opgt1t9QO1NX"
      },
      "execution_count": null,
      "outputs": []
    },
    {
      "cell_type": "code",
      "source": [
        "# Calculate accuracy, sensitivity, and specificity\n",
        "conf_mat = confusion_matrix(y_test, y_pred6)\n",
        "accuracy = best_clf.score(X_test_pca, y_test)\n",
        "sensitivity = conf_mat.diagonal()/conf_mat.sum(axis=1)\n",
        "specificity = (np.trace(conf_mat)-conf_mat.diagonal())/((conf_mat.shape[0]*conf_mat.shape[1])-np.sum(conf_mat))\n",
        "\n",
        "# Print results\n",
        "print(\"Cross-validation scores:\", scores)\n",
        "print(\"Mean cross-validation score:\", np.mean(scores))\n",
        "print(\"Test set accuracy: %f\" % accuracy)\n",
        "print(\"Sensitivity: \", sensitivity)\n",
        "print(\"Specificity: \", specificity)\n",
        "print(\"Best hyperparameters: \", grid_search.best_params_)"
      ],
      "metadata": {
        "colab": {
          "base_uri": "https://localhost:8080/"
        },
        "id": "_FqfQW0BKU72",
        "outputId": "a0392e6d-2d26-4d1f-d3ac-f5e365b407ce"
      },
      "execution_count": null,
      "outputs": [
        {
          "output_type": "stream",
          "name": "stdout",
          "text": [
            "Cross-validation scores: [0.93032159 0.9287902  0.92343032 0.92343032 0.9302682  0.92183908\n",
            " 0.92873563 0.92260536 0.92796935 0.93333333]\n",
            "Mean cross-validation score: 0.9270723392770179\n",
            "Test set accuracy: 0.810662\n",
            "Sensitivity:  [1. 0.]\n",
            "Specificity:  [-0.         -0.87361963]\n",
            "Best hyperparameters:  {'learning_rate_init': 0.001}\n"
          ]
        }
      ]
    },
    {
      "cell_type": "code",
      "source": [
        "from sklearn.neighbors import KNeighborsClassifier\n",
        "from sklearn.model_selection import cross_val_score, KFold\n",
        "\n",
        "# Load your training data into X_train and y_train arrays\n",
        "\n",
        "# Split the data into training and testing sets\n",
        "X_train, X_test, y_train, y_test = train_test_split(X_pca, y, test_size=0.2, random_state=42)\n",
        "\n",
        "# Create a KNN classifier object\n",
        "knn = KNeighborsClassifier(n_neighbors=10)\n",
        "\n",
        "# Define the number of folds for cross-validation\n",
        "num_folds = 5\n",
        "\n",
        "# Define the k-fold cross-validation technique\n",
        "kfold = KFold(n_splits=num_folds, shuffle=True, random_state=42)\n",
        "\n",
        "# Perform cross-validation on the training data\n",
        "scores = cross_val_score(knn, X_train, y_train, cv=kfold)\n",
        "# Train the model on the training set\n",
        "knn.fit(X_train_pca, y_train)\n",
        "\n",
        "# Print the cross-validation scores\n",
        "print(\"Cross-validation scores: {}\".format(scores))\n",
        "print(\"Mean accuracy: {:.2f}\".format(scores.mean()))\n",
        "print(\"Standard deviation: {:.2f}\".format(scores.std()))\n"
      ],
      "metadata": {
        "colab": {
          "base_uri": "https://localhost:8080/"
        },
        "id": "uU3BhI0Bx42o",
        "outputId": "8eeaff88-56cb-4558-8f4b-57ef53657545"
      },
      "execution_count": null,
      "outputs": [
        {
          "output_type": "stream",
          "name": "stdout",
          "text": [
            "Cross-validation scores: [0.93489085 0.92837993 0.93527384 0.94101877 0.93639847]\n",
            "Mean accuracy: 0.94\n",
            "Standard deviation: 0.00\n"
          ]
        }
      ]
    },
    {
      "cell_type": "code",
      "source": [
        "knn.fit(X_train_pca, y_train)\n",
        "# Predict the labels of the test set\n",
        "y_pred4 = knn.predict(X_test_pca)\n",
        "\n",
        "# Evaluate the accuracy of the model\n",
        "accuracy = knn.score(X_test_pca, y_pred4)\n",
        "print(\"Accuracy:\", accuracy)"
      ],
      "metadata": {
        "colab": {
          "base_uri": "https://localhost:8080/"
        },
        "id": "23aIAmB0Kfg9",
        "outputId": "c9776c41-8c93-4faf-c1eb-a495fec50d7a"
      },
      "execution_count": null,
      "outputs": [
        {
          "output_type": "stream",
          "name": "stdout",
          "text": [
            "Accuracy: 1.0\n"
          ]
        }
      ]
    },
    {
      "cell_type": "code",
      "source": [
        "# Calculate accuracy, sensitivity, and specificity\n",
        "conf_mat = confusion_matrix(y_test, y_pred4)\n",
        "accuracy = knn.score(X_test_pca, y_test)\n",
        "sensitivity = conf_mat.diagonal()/conf_mat.sum(axis=1)\n",
        "specificity = (np.trace(conf_mat)-conf_mat.diagonal())/((conf_mat.shape[0]*conf_mat.shape[1])-np.sum(conf_mat))\n",
        "\n",
        "# Print results\n",
        "print(\"Cross-validation scores:\", scores)\n",
        "print(\"Mean cross-validation score:\", np.mean(scores))\n",
        "print(\"Test set accuracy: %f\" % accuracy)\n",
        "print(\"Sensitivity: \", sensitivity)\n",
        "print(\"Specificity: \", specificity)"
      ],
      "metadata": {
        "colab": {
          "base_uri": "https://localhost:8080/"
        },
        "id": "aCMtV7VrK2fr",
        "outputId": "285df0b4-2968-4c8b-f3da-2c22fb02e721"
      },
      "execution_count": null,
      "outputs": [
        {
          "output_type": "stream",
          "name": "stdout",
          "text": [
            "Cross-validation scores: [0.93032159 0.9287902  0.92343032 0.92343032 0.9302682  0.92183908\n",
            " 0.92873563 0.92260536 0.92796935 0.93333333]\n",
            "Mean cross-validation score: 0.9270723392770179\n",
            "Test set accuracy: 0.872243\n",
            "Sensitivity:  [0.99929775 0.00240385]\n",
            "Specificity:  [-3.06748466e-04 -8.73006135e-01]\n"
          ]
        }
      ]
    },
    {
      "cell_type": "code",
      "source": [
        "from sklearn.metrics import confusion_matrix\n",
        "# Calculate the confusion matrix\n",
        "tn, fp, fn, tp = confusion_matrix(y_test, y_pred4).ravel()\n",
        "\n",
        "# Calculate the specificity score\n",
        "specificity = tn / (tn + fp)\n",
        "print(\"Specificity:\", specificity)"
      ],
      "metadata": {
        "id": "q_L-hNs5YBdi",
        "colab": {
          "base_uri": "https://localhost:8080/"
        },
        "outputId": "1118b414-4532-4441-df01-451631164b22"
      },
      "execution_count": null,
      "outputs": [
        {
          "output_type": "stream",
          "name": "stdout",
          "text": [
            "Specificity: 0.9992977528089888\n"
          ]
        }
      ]
    },
    {
      "cell_type": "code",
      "source": [
        "from sklearn.naive_bayes import GaussianNB\n",
        "from sklearn.metrics import accuracy_score\n",
        "\n",
        "# Train a Gaussian Naive Bayes classifier on the training set\n",
        "clf = GaussianNB()\n",
        "clf.fit(X_train_pca, y_train)\n",
        "\n",
        "# Evaluate the classifier on the testing set\n",
        "y_pred = clf.predict(X_test_pca)\n",
        "acc = accuracy_score(y_test, y_pred)\n",
        "\n",
        "print('Accuracy:', acc)\n"
      ],
      "metadata": {
        "colab": {
          "base_uri": "https://localhost:8080/"
        },
        "id": "qI3VpJnASMk3",
        "outputId": "03ffab0a-be89-4bdf-f81a-0e0dc9aeaf32"
      },
      "execution_count": null,
      "outputs": [
        {
          "output_type": "stream",
          "name": "stdout",
          "text": [
            "Accuracy: 0.788296568627451\n"
          ]
        }
      ]
    },
    {
      "cell_type": "code",
      "source": [
        "# Calculate accuracy, sensitivity, and specificity\n",
        "conf_mat = confusion_matrix(y_test, y_pred)\n",
        "accuracy = knn.score(X_test_pca, y_test)\n",
        "sensitivity = conf_mat.diagonal()/conf_mat.sum(axis=1)\n",
        "specificity = (np.trace(conf_mat)-conf_mat.diagonal())/((conf_mat.shape[0]*conf_mat.shape[1])-np.sum(conf_mat))\n",
        "\n",
        "# Print results\n",
        "print(\"Cross-validation scores:\", scores)\n",
        "print(\"Mean cross-validation score:\", np.mean(scores))\n",
        "print(\"Test set accuracy: %f\" % accuracy)\n",
        "print(\"Sensitivity: \", sensitivity)\n",
        "print(\"Specificity: \", specificity)"
      ],
      "metadata": {
        "colab": {
          "base_uri": "https://localhost:8080/"
        },
        "id": "a4nzO_N3Tfps",
        "outputId": "66d0f7a1-3f90-4b3d-b544-0c53af65631e"
      },
      "execution_count": null,
      "outputs": [
        {
          "output_type": "stream",
          "name": "stdout",
          "text": [
            "Cross-validation scores: [0.93032159 0.9287902  0.92343032 0.92343032 0.9302682  0.92183908\n",
            " 0.92873563 0.92260536 0.92796935 0.93333333]\n",
            "Mean cross-validation score: 0.9270723392770179\n",
            "Test set accuracy: 0.872243\n",
            "Sensitivity:  [0.93328652 0.0625    ]\n",
            "Specificity:  [-0.00797546 -0.81533742]\n"
          ]
        }
      ]
    },
    {
      "cell_type": "code",
      "source": [
        "from sklearn.naive_bayes import GaussianNB\n",
        "from sklearn.metrics import accuracy_score\n",
        "\n",
        "# Train a Gaussian Naive Bayes classifier on the training set\n",
        "clf = GaussianNB()\n",
        "clf.fit(X_train, y_train)\n",
        "\n",
        "# Evaluate the classifier on the testing set\n",
        "y_pred = clf.predict(X_test)\n",
        "acc = accuracy_score(y_test, y_pred)\n",
        "\n",
        "print('Accuracy:', acc)\n"
      ],
      "metadata": {
        "colab": {
          "base_uri": "https://localhost:8080/"
        },
        "id": "GSIr2qsWSWVo",
        "outputId": "cc7666eb-a08d-436e-8d0c-5e708a0d6311"
      },
      "execution_count": null,
      "outputs": [
        {
          "output_type": "stream",
          "name": "stdout",
          "text": [
            "Accuracy: 0.8762254901960784\n"
          ]
        }
      ]
    },
    {
      "cell_type": "code",
      "source": [
        "# Calculate accuracy, sensitivity, and specificity\n",
        "conf_mat = confusion_matrix(y_test, y_pred)\n",
        "accuracy = knn.score(X_test_pca, y_test)\n",
        "sensitivity = conf_mat.diagonal()/conf_mat.sum(axis=1)\n",
        "specificity = (np.trace(conf_mat)-conf_mat.diagonal())/((conf_mat.shape[0]*conf_mat.shape[1])-np.sum(conf_mat))\n",
        "\n",
        "# Print results\n",
        "print(\"Cross-validation scores:\", scores)\n",
        "print(\"Mean cross-validation score:\", np.mean(scores))\n",
        "print(\"Test set accuracy: %f\" % accuracy)\n",
        "print(\"Sensitivity: \", sensitivity)\n",
        "print(\"Specificity: \", specificity)"
      ],
      "metadata": {
        "colab": {
          "base_uri": "https://localhost:8080/"
        },
        "id": "cucPtn2BT9Ah",
        "outputId": "d8fea0fe-563e-45d5-8ec3-b3c0896d959a"
      },
      "execution_count": null,
      "outputs": [
        {
          "output_type": "stream",
          "name": "stdout",
          "text": [
            "Cross-validation scores: [0.93032159 0.9287902  0.92343032 0.92343032 0.9302682  0.92183908\n",
            " 0.92873563 0.92260536 0.92796935 0.93333333]\n",
            "Mean cross-validation score: 0.9270723392770179\n",
            "Test set accuracy: 0.872243\n",
            "Sensitivity:  [0.96488764 0.26923077]\n",
            "Specificity:  [-0.03435583 -0.84294479]\n"
          ]
        }
      ]
    }
  ]
}